{
  "cells": [
    {
      "cell_type": "markdown",
      "metadata": {
        "id": "view-in-github",
        "colab_type": "text"
      },
      "source": [
        "<a href=\"https://colab.research.google.com/github/altheaxcvii/project_2/blob/charles/Model_Training.ipynb\" target=\"_parent\"><img src=\"https://colab.research.google.com/assets/colab-badge.svg\" alt=\"Open In Colab\"/></a>"
      ]
    },
    {
      "cell_type": "code",
      "source": [
        "import pandas as pd\n",
        "from sklearn.model_selection import train_test_split\n",
        "from sklearn.preprocessing import StandardScaler\n",
        "from sklearn.linear_model import LinearRegression\n",
        "from sklearn.metrics import mean_squared_error\n",
        "import numpy as np"
      ],
      "outputs": [],
      "execution_count": null,
      "metadata": {
        "jupyter": {
          "outputs_hidden": false,
          "source_hidden": false
        },
        "noteable": {
          "cell_type": "code"
        },
        "ExecuteTime": {
          "start_time": "2023-05-30T06:04:02.627946+00:00",
          "end_time": "2023-05-30T06:04:03.214751+00:00"
        },
        "id": "8d776762-6c26-4933-b3de-7d143adae340"
      },
      "id": "8d776762-6c26-4933-b3de-7d143adae340"
    },
    {
      "cell_type": "code",
      "source": [
        "# Load the training data\n",
        "train_data = pd.read_csv('train.csv')\n",
        "train_data.head()"
      ],
      "outputs": [
        {
          "output_type": "display_data",
          "data": {
            "application/vnd.dataresource+json": {
              "schema": {
                "fields": [
                  {
                    "name": "index",
                    "type": "integer"
                  },
                  {
                    "name": "id",
                    "type": "integer"
                  },
                  {
                    "name": "Tranc_YearMonth",
                    "type": "string"
                  },
                  {
                    "name": "town",
                    "type": "string"
                  },
                  {
                    "name": "flat_type",
                    "type": "string"
                  },
                  {
                    "name": "block",
                    "type": "string"
                  },
                  {
                    "name": "street_name",
                    "type": "string"
                  },
                  {
                    "name": "storey_range",
                    "type": "string"
                  },
                  {
                    "name": "floor_area_sqm",
                    "type": "number"
                  },
                  {
                    "name": "flat_model",
                    "type": "string"
                  },
                  {
                    "name": "lease_commence_date",
                    "type": "integer"
                  },
                  {
                    "name": "resale_price",
                    "type": "number"
                  },
                  {
                    "name": "Tranc_Year",
                    "type": "integer"
                  },
                  {
                    "name": "Tranc_Month",
                    "type": "integer"
                  },
                  {
                    "name": "mid_storey",
                    "type": "integer"
                  },
                  {
                    "name": "lower",
                    "type": "integer"
                  },
                  {
                    "name": "upper",
                    "type": "integer"
                  },
                  {
                    "name": "mid",
                    "type": "integer"
                  },
                  {
                    "name": "full_flat_type",
                    "type": "string"
                  },
                  {
                    "name": "address",
                    "type": "string"
                  },
                  {
                    "name": "floor_area_sqft",
                    "type": "number"
                  },
                  {
                    "name": "price_per_sqft",
                    "type": "number"
                  },
                  {
                    "name": "hdb_age",
                    "type": "integer"
                  },
                  {
                    "name": "max_floor_lvl",
                    "type": "integer"
                  },
                  {
                    "name": "year_completed",
                    "type": "integer"
                  },
                  {
                    "name": "residential",
                    "type": "string"
                  },
                  {
                    "name": "commercial",
                    "type": "string"
                  },
                  {
                    "name": "market_hawker",
                    "type": "string"
                  },
                  {
                    "name": "multistorey_carpark",
                    "type": "string"
                  },
                  {
                    "name": "precinct_pavilion",
                    "type": "string"
                  },
                  {
                    "name": "total_dwelling_units",
                    "type": "integer"
                  },
                  {
                    "name": "1room_sold",
                    "type": "integer"
                  },
                  {
                    "name": "2room_sold",
                    "type": "integer"
                  },
                  {
                    "name": "3room_sold",
                    "type": "integer"
                  },
                  {
                    "name": "4room_sold",
                    "type": "integer"
                  },
                  {
                    "name": "5room_sold",
                    "type": "integer"
                  },
                  {
                    "name": "exec_sold",
                    "type": "integer"
                  },
                  {
                    "name": "multigen_sold",
                    "type": "integer"
                  },
                  {
                    "name": "studio_apartment_sold",
                    "type": "integer"
                  },
                  {
                    "name": "1room_rental",
                    "type": "integer"
                  },
                  {
                    "name": "2room_rental",
                    "type": "integer"
                  },
                  {
                    "name": "3room_rental",
                    "type": "integer"
                  },
                  {
                    "name": "other_room_rental",
                    "type": "integer"
                  },
                  {
                    "name": "postal",
                    "type": "string"
                  },
                  {
                    "name": "Latitude",
                    "type": "number"
                  },
                  {
                    "name": "Longitude",
                    "type": "number"
                  },
                  {
                    "name": "planning_area",
                    "type": "string"
                  },
                  {
                    "name": "Mall_Nearest_Distance",
                    "type": "number"
                  },
                  {
                    "name": "Mall_Within_500m",
                    "type": "number"
                  },
                  {
                    "name": "Mall_Within_1km",
                    "type": "number"
                  },
                  {
                    "name": "Mall_Within_2km",
                    "type": "number"
                  },
                  {
                    "name": "Hawker_Nearest_Distance",
                    "type": "number"
                  },
                  {
                    "name": "Hawker_Within_500m",
                    "type": "number"
                  },
                  {
                    "name": "Hawker_Within_1km",
                    "type": "number"
                  },
                  {
                    "name": "Hawker_Within_2km",
                    "type": "number"
                  },
                  {
                    "name": "hawker_food_stalls",
                    "type": "integer"
                  },
                  {
                    "name": "hawker_market_stalls",
                    "type": "integer"
                  },
                  {
                    "name": "mrt_nearest_distance",
                    "type": "number"
                  },
                  {
                    "name": "mrt_name",
                    "type": "string"
                  },
                  {
                    "name": "bus_interchange",
                    "type": "integer"
                  },
                  {
                    "name": "mrt_interchange",
                    "type": "integer"
                  },
                  {
                    "name": "mrt_latitude",
                    "type": "number"
                  },
                  {
                    "name": "mrt_longitude",
                    "type": "number"
                  },
                  {
                    "name": "bus_stop_nearest_distance",
                    "type": "number"
                  },
                  {
                    "name": "bus_stop_name",
                    "type": "string"
                  },
                  {
                    "name": "bus_stop_latitude",
                    "type": "number"
                  },
                  {
                    "name": "bus_stop_longitude",
                    "type": "number"
                  },
                  {
                    "name": "pri_sch_nearest_distance",
                    "type": "number"
                  },
                  {
                    "name": "pri_sch_name",
                    "type": "string"
                  },
                  {
                    "name": "vacancy",
                    "type": "integer"
                  },
                  {
                    "name": "pri_sch_affiliation",
                    "type": "integer"
                  },
                  {
                    "name": "pri_sch_latitude",
                    "type": "number"
                  },
                  {
                    "name": "pri_sch_longitude",
                    "type": "number"
                  },
                  {
                    "name": "sec_sch_nearest_dist",
                    "type": "number"
                  },
                  {
                    "name": "sec_sch_name",
                    "type": "string"
                  },
                  {
                    "name": "cutoff_point",
                    "type": "integer"
                  },
                  {
                    "name": "affiliation",
                    "type": "integer"
                  },
                  {
                    "name": "sec_sch_latitude",
                    "type": "number"
                  },
                  {
                    "name": "sec_sch_longitude",
                    "type": "number"
                  }
                ],
                "primaryKey": [
                  "index"
                ],
                "pandas_version": "1.4.0"
              },
              "data": [
                {
                  "index": 0,
                  "id": 88471,
                  "Tranc_YearMonth": "2016-05",
                  "town": "KALLANG/WHAMPOA",
                  "flat_type": "4 ROOM",
                  "block": "3B",
                  "street_name": "UPP BOON KENG RD",
                  "storey_range": "10 TO 12",
                  "floor_area_sqm": 90,
                  "flat_model": "Model A",
                  "lease_commence_date": 2006,
                  "resale_price": 680000,
                  "Tranc_Year": 2016,
                  "Tranc_Month": 5,
                  "mid_storey": 11,
                  "lower": 10,
                  "upper": 12,
                  "mid": 11,
                  "full_flat_type": "4 ROOM Model A",
                  "address": "3B, UPP BOON KENG RD",
                  "floor_area_sqft": 968.76,
                  "price_per_sqft": 701.9282381601222,
                  "hdb_age": 15,
                  "max_floor_lvl": 25,
                  "year_completed": 2005,
                  "residential": "Y",
                  "commercial": "N",
                  "market_hawker": "N",
                  "multistorey_carpark": "N",
                  "precinct_pavilion": "N",
                  "total_dwelling_units": 142,
                  "1room_sold": 0,
                  "2room_sold": 0,
                  "3room_sold": 0,
                  "4room_sold": 96,
                  "5room_sold": 46,
                  "exec_sold": 0,
                  "multigen_sold": 0,
                  "studio_apartment_sold": 0,
                  "1room_rental": 0,
                  "2room_rental": 0,
                  "3room_rental": 0,
                  "other_room_rental": 0,
                  "postal": "382003",
                  "Latitude": 1.314298734,
                  "Longitude": 103.8728282,
                  "planning_area": "Kallang",
                  "Mall_Nearest_Distance": 1094.090418,
                  "Mall_Within_500m": null,
                  "Mall_Within_1km": null,
                  "Mall_Within_2km": 7,
                  "Hawker_Nearest_Distance": 154.7533573,
                  "Hawker_Within_500m": 1,
                  "Hawker_Within_1km": 3,
                  "Hawker_Within_2km": 13,
                  "hawker_food_stalls": 84,
                  "hawker_market_stalls": 60,
                  "mrt_nearest_distance": 330.0830689707568,
                  "mrt_name": "Kallang",
                  "bus_interchange": 0,
                  "mrt_interchange": 0,
                  "mrt_latitude": 1.311540483,
                  "mrt_longitude": 103.8717306,
                  "bus_stop_nearest_distance": 29.427394664226163,
                  "bus_stop_name": "Blk 3B",
                  "bus_stop_latitude": 1.31443333298525,
                  "bus_stop_longitude": 103.87260027800173,
                  "pri_sch_nearest_distance": 1138.6334215866475,
                  "pri_sch_name": "Geylang Methodist School",
                  "vacancy": 78,
                  "pri_sch_affiliation": 1,
                  "pri_sch_latitude": 1.317658971,
                  "pri_sch_longitude": 103.8825037,
                  "sec_sch_nearest_dist": 1138.6334215866475,
                  "sec_sch_name": "Geylang Methodist School",
                  "cutoff_point": 224,
                  "affiliation": 0,
                  "sec_sch_latitude": 1.317658971,
                  "sec_sch_longitude": 103.8825037
                },
                {
                  "index": 1,
                  "id": 122598,
                  "Tranc_YearMonth": "2012-07",
                  "town": "BISHAN",
                  "flat_type": "5 ROOM",
                  "block": "153",
                  "street_name": "BISHAN ST 13",
                  "storey_range": "07 TO 09",
                  "floor_area_sqm": 130,
                  "flat_model": "Improved",
                  "lease_commence_date": 1987,
                  "resale_price": 665000,
                  "Tranc_Year": 2012,
                  "Tranc_Month": 7,
                  "mid_storey": 8,
                  "lower": 7,
                  "upper": 9,
                  "mid": 8,
                  "full_flat_type": "5 ROOM Improved",
                  "address": "153, BISHAN ST 13",
                  "floor_area_sqft": 1399.32,
                  "price_per_sqft": 475.230826401395,
                  "hdb_age": 34,
                  "max_floor_lvl": 9,
                  "year_completed": 1987,
                  "residential": "Y",
                  "commercial": "N",
                  "market_hawker": "N",
                  "multistorey_carpark": "N",
                  "precinct_pavilion": "N",
                  "total_dwelling_units": 112,
                  "1room_sold": 0,
                  "2room_sold": 0,
                  "3room_sold": 0,
                  "4room_sold": 56,
                  "5room_sold": 56,
                  "exec_sold": 0,
                  "multigen_sold": 0,
                  "studio_apartment_sold": 0,
                  "1room_rental": 0,
                  "2room_rental": 0,
                  "3room_rental": 0,
                  "other_room_rental": 0,
                  "postal": "570153",
                  "Latitude": 1.346085959,
                  "Longitude": 103.8550783,
                  "planning_area": "Bishan",
                  "Mall_Nearest_Distance": 866.9414477,
                  "Mall_Within_500m": null,
                  "Mall_Within_1km": 1,
                  "Mall_Within_2km": 3,
                  "Hawker_Nearest_Distance": 640.1519255,
                  "Hawker_Within_500m": null,
                  "Hawker_Within_1km": 1,
                  "Hawker_Within_2km": 7,
                  "hawker_food_stalls": 80,
                  "hawker_market_stalls": 77,
                  "mrt_nearest_distance": 903.659702852102,
                  "mrt_name": "Bishan",
                  "bus_interchange": 1,
                  "mrt_interchange": 1,
                  "mrt_latitude": 1.350579599,
                  "mrt_longitude": 103.848305,
                  "bus_stop_nearest_distance": 58.20776076986849,
                  "bus_stop_name": "BLK 151A MKT",
                  "bus_stop_latitude": 1.345658889,
                  "bus_stop_longitude": 103.8553811,
                  "pri_sch_nearest_distance": 415.6073570760776,
                  "pri_sch_name": "Kuo Chuan Presbyterian Primary School",
                  "vacancy": 45,
                  "pri_sch_affiliation": 1,
                  "pri_sch_latitude": 1.349783074,
                  "pri_sch_longitude": 103.8545292,
                  "sec_sch_nearest_dist": 447.8943992623188,
                  "sec_sch_name": "Kuo Chuan Presbyterian Secondary School",
                  "cutoff_point": 232,
                  "affiliation": 0,
                  "sec_sch_latitude": 1.350109648,
                  "sec_sch_longitude": 103.8548917
                },
                {
                  "index": 2,
                  "id": 170897,
                  "Tranc_YearMonth": "2013-07",
                  "town": "BUKIT BATOK",
                  "flat_type": "EXECUTIVE",
                  "block": "289B",
                  "street_name": "BT BATOK ST 25",
                  "storey_range": "13 TO 15",
                  "floor_area_sqm": 144,
                  "flat_model": "Apartment",
                  "lease_commence_date": 1997,
                  "resale_price": 838000,
                  "Tranc_Year": 2013,
                  "Tranc_Month": 7,
                  "mid_storey": 14,
                  "lower": 13,
                  "upper": 15,
                  "mid": 14,
                  "full_flat_type": "EXECUTIVE Apartment",
                  "address": "289B, BT BATOK ST 25",
                  "floor_area_sqft": 1550.0159999999998,
                  "price_per_sqft": 540.639580494653,
                  "hdb_age": 24,
                  "max_floor_lvl": 16,
                  "year_completed": 1996,
                  "residential": "Y",
                  "commercial": "N",
                  "market_hawker": "N",
                  "multistorey_carpark": "N",
                  "precinct_pavilion": "N",
                  "total_dwelling_units": 90,
                  "1room_sold": 0,
                  "2room_sold": 0,
                  "3room_sold": 0,
                  "4room_sold": 0,
                  "5room_sold": 30,
                  "exec_sold": 60,
                  "multigen_sold": 0,
                  "studio_apartment_sold": 0,
                  "1room_rental": 0,
                  "2room_rental": 0,
                  "3room_rental": 0,
                  "other_room_rental": 0,
                  "postal": "651289",
                  "Latitude": 1.343866875,
                  "Longitude": 103.760535,
                  "planning_area": "Bukit Batok",
                  "Mall_Nearest_Distance": 1459.579948,
                  "Mall_Within_500m": null,
                  "Mall_Within_1km": null,
                  "Mall_Within_2km": 4,
                  "Hawker_Nearest_Distance": 1762.082341,
                  "Hawker_Within_500m": null,
                  "Hawker_Within_1km": null,
                  "Hawker_Within_2km": 1,
                  "hawker_food_stalls": 84,
                  "hawker_market_stalls": 95,
                  "mrt_nearest_distance": 1334.2511968565068,
                  "mrt_name": "Bukit Batok",
                  "bus_interchange": 1,
                  "mrt_interchange": 0,
                  "mrt_latitude": 1.34956122,
                  "mrt_longitude": 103.74997009999998,
                  "bus_stop_nearest_distance": 214.74785985874092,
                  "bus_stop_name": "Blk 289E",
                  "bus_stop_latitude": 1.34406411828167,
                  "bus_stop_longitude": 103.75861329619693,
                  "pri_sch_nearest_distance": 498.8490387470122,
                  "pri_sch_name": "Keming Primary School",
                  "vacancy": 39,
                  "pri_sch_affiliation": 0,
                  "pri_sch_latitude": 1.3452450530000002,
                  "pri_sch_longitude": 103.7562645,
                  "sec_sch_nearest_dist": 180.07455777683884,
                  "sec_sch_name": "Yusof Ishak Secondary School",
                  "cutoff_point": 188,
                  "affiliation": 0,
                  "sec_sch_latitude": 1.3423337780000002,
                  "sec_sch_longitude": 103.7600131
                },
                {
                  "index": 3,
                  "id": 86070,
                  "Tranc_YearMonth": "2012-04",
                  "town": "BISHAN",
                  "flat_type": "4 ROOM",
                  "block": "232",
                  "street_name": "BISHAN ST 22",
                  "storey_range": "01 TO 05",
                  "floor_area_sqm": 103,
                  "flat_model": "Model A",
                  "lease_commence_date": 1992,
                  "resale_price": 550000,
                  "Tranc_Year": 2012,
                  "Tranc_Month": 4,
                  "mid_storey": 3,
                  "lower": 1,
                  "upper": 5,
                  "mid": 3,
                  "full_flat_type": "4 ROOM Model A",
                  "address": "232, BISHAN ST 22",
                  "floor_area_sqft": 1108.692,
                  "price_per_sqft": 496.0800655186472,
                  "hdb_age": 29,
                  "max_floor_lvl": 11,
                  "year_completed": 1990,
                  "residential": "Y",
                  "commercial": "Y",
                  "market_hawker": "N",
                  "multistorey_carpark": "N",
                  "precinct_pavilion": "N",
                  "total_dwelling_units": 75,
                  "1room_sold": 0,
                  "2room_sold": 0,
                  "3room_sold": 0,
                  "4room_sold": 68,
                  "5room_sold": 7,
                  "exec_sold": 0,
                  "multigen_sold": 0,
                  "studio_apartment_sold": 0,
                  "1room_rental": 0,
                  "2room_rental": 0,
                  "3room_rental": 0,
                  "other_room_rental": 0,
                  "postal": "570232",
                  "Latitude": 1.358245182,
                  "Longitude": 103.8455043,
                  "planning_area": "Bishan",
                  "Mall_Nearest_Distance": 950.1751993,
                  "Mall_Within_500m": null,
                  "Mall_Within_1km": 1,
                  "Mall_Within_2km": 4,
                  "Hawker_Nearest_Distance": 726.2152623,
                  "Hawker_Within_500m": null,
                  "Hawker_Within_1km": 1,
                  "Hawker_Within_2km": 9,
                  "hawker_food_stalls": 32,
                  "hawker_market_stalls": 86,
                  "mrt_nearest_distance": 907.4534838705996,
                  "mrt_name": "Bishan",
                  "bus_interchange": 1,
                  "mrt_interchange": 1,
                  "mrt_latitude": 1.350579599,
                  "mrt_longitude": 103.848305,
                  "bus_stop_nearest_distance": 43.39652074703513,
                  "bus_stop_name": "Opp Bishan Nth Shop Mall",
                  "bus_stop_latitude": 1.3580447373693298,
                  "bus_stop_longitude": 103.8451693388076,
                  "pri_sch_nearest_distance": 389.5155277535977,
                  "pri_sch_name": "Catholic High School",
                  "vacancy": 20,
                  "pri_sch_affiliation": 1,
                  "pri_sch_latitude": 1.3547888769999998,
                  "pri_sch_longitude": 103.8449341,
                  "sec_sch_nearest_dist": 389.5155277535977,
                  "sec_sch_name": "Catholic High School",
                  "cutoff_point": 253,
                  "affiliation": 1,
                  "sec_sch_latitude": 1.3547888769999998,
                  "sec_sch_longitude": 103.8449341
                },
                {
                  "index": 4,
                  "id": 153632,
                  "Tranc_YearMonth": "2017-12",
                  "town": "YISHUN",
                  "flat_type": "4 ROOM",
                  "block": "876",
                  "street_name": "YISHUN ST 81",
                  "storey_range": "01 TO 03",
                  "floor_area_sqm": 83,
                  "flat_model": "Simplified",
                  "lease_commence_date": 1987,
                  "resale_price": 298000,
                  "Tranc_Year": 2017,
                  "Tranc_Month": 12,
                  "mid_storey": 2,
                  "lower": 1,
                  "upper": 3,
                  "mid": 2,
                  "full_flat_type": "4 ROOM Simplified",
                  "address": "876, YISHUN ST 81",
                  "floor_area_sqft": 893.4119999999999,
                  "price_per_sqft": 333.55271699954784,
                  "hdb_age": 34,
                  "max_floor_lvl": 4,
                  "year_completed": 1987,
                  "residential": "Y",
                  "commercial": "N",
                  "market_hawker": "N",
                  "multistorey_carpark": "N",
                  "precinct_pavilion": "N",
                  "total_dwelling_units": 48,
                  "1room_sold": 0,
                  "2room_sold": 0,
                  "3room_sold": 0,
                  "4room_sold": 30,
                  "5room_sold": 18,
                  "exec_sold": 0,
                  "multigen_sold": 0,
                  "studio_apartment_sold": 0,
                  "1room_rental": 0,
                  "2room_rental": 0,
                  "3room_rental": 0,
                  "other_room_rental": 0,
                  "postal": "760876",
                  "Latitude": 1.414744781,
                  "Longitude": 103.8355316,
                  "planning_area": "Yishun",
                  "Mall_Nearest_Distance": 729.7718948,
                  "Mall_Within_500m": null,
                  "Mall_Within_1km": 1,
                  "Mall_Within_2km": 2,
                  "Hawker_Nearest_Distance": 1540.151439,
                  "Hawker_Within_500m": null,
                  "Hawker_Within_1km": null,
                  "Hawker_Within_2km": 1,
                  "hawker_food_stalls": 45,
                  "hawker_market_stalls": 0,
                  "mrt_nearest_distance": 412.3430317260264,
                  "mrt_name": "Khatib",
                  "bus_interchange": 0,
                  "mrt_interchange": 0,
                  "mrt_latitude": 1.417130546,
                  "mrt_longitude": 103.8326918,
                  "bus_stop_nearest_distance": 129.42275191919487,
                  "bus_stop_name": "Blk 873",
                  "bus_stop_latitude": 1.41542424800444,
                  "bus_stop_longitude": 103.83647690158536,
                  "pri_sch_nearest_distance": 401.2005842465068,
                  "pri_sch_name": "Naval Base Primary School",
                  "vacancy": 74,
                  "pri_sch_affiliation": 0,
                  "pri_sch_latitude": 1.4162801530000002,
                  "pri_sch_longitude": 103.8387977,
                  "sec_sch_nearest_dist": 312.0254346135187,
                  "sec_sch_name": "Orchid Park Secondary School",
                  "cutoff_point": 208,
                  "affiliation": 0,
                  "sec_sch_latitude": 1.414888187,
                  "sec_sch_longitude": 103.8383349
                }
              ],
              "datalink": {
                "display_id": "5694e593-9d59-4088-be4d-19c0b8fe689f"
              }
            }
          },
          "metadata": {
            "application/vnd.dataresource+json": {
              "datalink": {
                "dataframe_info": {
                  "default_index_used": true,
                  "orig_size_bytes": 3248,
                  "orig_num_rows": 5,
                  "orig_num_cols": 78,
                  "truncated_string_columns": [],
                  "truncated_size_bytes": 3248,
                  "truncated_num_rows": 5,
                  "truncated_num_cols": 78
                },
                "dx_settings": {
                  "NUM_PAST_SAMPLES_TRACKED": 3,
                  "ENABLE_DATALINK": true,
                  "DISPLAY_MODE": "simple",
                  "GENERATE_DEX_METADATA": false,
                  "STRINGIFY_INDEX_VALUES": false,
                  "ALLOW_NOTEABLE_ATTRS": true,
                  "DISPLAY_MAX_COLUMNS": 100,
                  "HTML_TABLE_SCHEMA": false,
                  "SAMPLING_FACTOR": 0.1,
                  "LOG_LEVEL": 30,
                  "ENABLE_ASSIGNMENT": true,
                  "FLATTEN_INDEX_VALUES": false,
                  "DEV_MODE": false,
                  "COLUMN_SAMPLING_METHOD": "outer",
                  "FLATTEN_COLUMN_VALUES": true,
                  "DISPLAY_MAX_ROWS": 50000,
                  "ROW_SAMPLING_METHOD": "random",
                  "RANDOM_STATE": 12648430,
                  "DB_LOCATION": ":memory:",
                  "STRINGIFY_COLUMN_VALUES": true,
                  "SAMPLING_METHOD": "random",
                  "MAX_STRING_LENGTH": 250,
                  "MAX_RENDER_SIZE_BYTES": 104857600,
                  "RESET_INDEX_VALUES": false
                },
                "display_id": "5694e593-9d59-4088-be4d-19c0b8fe689f",
                "applied_filters": [],
                "sample_history": [],
                "sampling_time": "2023-05-30T06:04:04.916173",
                "variable_name": "unk_dataframe_cca73ad6004a4061ac9ccc9c2a2023da",
                "user_variable_name": null
              },
              "display_id": "5694e593-9d59-4088-be4d-19c0b8fe689f"
            }
          }
        }
      ],
      "execution_count": null,
      "metadata": {
        "jupyter": {
          "outputs_hidden": false,
          "source_hidden": false
        },
        "noteable": {
          "cell_type": "code"
        },
        "ExecuteTime": {
          "start_time": "2023-05-30T06:04:03.229188+00:00",
          "end_time": "2023-05-30T06:04:05.085009+00:00"
        },
        "datalink": {
          "c4bc5ecf-989b-4668-bef2-1d162256f8a5": {
            "applied_filters": [],
            "dataframe_info": {
              "default_index_used": true,
              "orig_num_cols": 78,
              "orig_num_rows": 5,
              "orig_size_bytes": 3248,
              "truncated_num_cols": 78,
              "truncated_num_rows": 5,
              "truncated_size_bytes": 3248,
              "truncated_string_columns": []
            },
            "display_id": "c4bc5ecf-989b-4668-bef2-1d162256f8a5",
            "dx_settings": {
              "ALLOW_NOTEABLE_ATTRS": true,
              "COLUMN_SAMPLING_METHOD": "outer",
              "DB_LOCATION": ":memory:",
              "DEV_MODE": false,
              "DISPLAY_MAX_COLUMNS": 100,
              "DISPLAY_MAX_ROWS": 50000,
              "DISPLAY_MODE": "simple",
              "ENABLE_ASSIGNMENT": true,
              "ENABLE_DATALINK": true,
              "FLATTEN_COLUMN_VALUES": true,
              "FLATTEN_INDEX_VALUES": false,
              "GENERATE_DEX_METADATA": false,
              "HTML_TABLE_SCHEMA": false,
              "LOG_LEVEL": 30,
              "MAX_RENDER_SIZE_BYTES": 104857600,
              "MAX_STRING_LENGTH": 250,
              "NUM_PAST_SAMPLES_TRACKED": 3,
              "RANDOM_STATE": 12648430,
              "RESET_INDEX_VALUES": false,
              "ROW_SAMPLING_METHOD": "random",
              "SAMPLING_FACTOR": 0.1,
              "SAMPLING_METHOD": "random",
              "STRINGIFY_COLUMN_VALUES": true,
              "STRINGIFY_INDEX_VALUES": false
            },
            "sample_history": [],
            "sampling_time": "2023-05-30T05:59:01.631747",
            "user_variable_name": null,
            "variable_name": "unk_dataframe_b1fa109101d54e38a1672227be0e1351"
          },
          "eb304584-c0c3-484d-9a3a-27fc6c271b4c": {
            "applied_filters": [],
            "dataframe_info": {
              "default_index_used": true,
              "orig_num_cols": 78,
              "orig_num_rows": 5,
              "orig_size_bytes": 3248,
              "truncated_num_cols": 78,
              "truncated_num_rows": 5,
              "truncated_size_bytes": 3248,
              "truncated_string_columns": []
            },
            "display_id": "eb304584-c0c3-484d-9a3a-27fc6c271b4c",
            "dx_settings": {
              "ALLOW_NOTEABLE_ATTRS": true,
              "COLUMN_SAMPLING_METHOD": "outer",
              "DB_LOCATION": ":memory:",
              "DEV_MODE": false,
              "DISPLAY_MAX_COLUMNS": 100,
              "DISPLAY_MAX_ROWS": 50000,
              "DISPLAY_MODE": "simple",
              "ENABLE_ASSIGNMENT": true,
              "ENABLE_DATALINK": true,
              "FLATTEN_COLUMN_VALUES": true,
              "FLATTEN_INDEX_VALUES": false,
              "GENERATE_DEX_METADATA": false,
              "HTML_TABLE_SCHEMA": false,
              "LOG_LEVEL": 30,
              "MAX_RENDER_SIZE_BYTES": 104857600,
              "MAX_STRING_LENGTH": 250,
              "NUM_PAST_SAMPLES_TRACKED": 3,
              "RANDOM_STATE": 12648430,
              "RESET_INDEX_VALUES": false,
              "ROW_SAMPLING_METHOD": "random",
              "SAMPLING_FACTOR": 0.1,
              "SAMPLING_METHOD": "random",
              "STRINGIFY_COLUMN_VALUES": true,
              "STRINGIFY_INDEX_VALUES": false
            },
            "sample_history": [],
            "sampling_time": "2023-05-30T06:02:58.040243",
            "user_variable_name": null,
            "variable_name": "unk_dataframe_5b2de4f814ee415aadb5a8d6f073053b"
          },
          "5694e593-9d59-4088-be4d-19c0b8fe689f": {
            "dataframe_info": {
              "default_index_used": true,
              "orig_size_bytes": 3248,
              "orig_num_rows": 5,
              "orig_num_cols": 78,
              "truncated_string_columns": [],
              "truncated_size_bytes": 3248,
              "truncated_num_rows": 5,
              "truncated_num_cols": 78
            },
            "dx_settings": {
              "LOG_LEVEL": 30,
              "DEV_MODE": false,
              "DISPLAY_MAX_ROWS": 50000,
              "DISPLAY_MAX_COLUMNS": 100,
              "HTML_TABLE_SCHEMA": false,
              "MAX_RENDER_SIZE_BYTES": 104857600,
              "MAX_STRING_LENGTH": 250,
              "SAMPLING_FACTOR": 0.1,
              "DISPLAY_MODE": "simple",
              "SAMPLING_METHOD": "random",
              "COLUMN_SAMPLING_METHOD": "outer",
              "ROW_SAMPLING_METHOD": "random",
              "RANDOM_STATE": 12648430,
              "RESET_INDEX_VALUES": false,
              "FLATTEN_INDEX_VALUES": false,
              "FLATTEN_COLUMN_VALUES": true,
              "STRINGIFY_INDEX_VALUES": false,
              "STRINGIFY_COLUMN_VALUES": true,
              "ENABLE_DATALINK": true,
              "ENABLE_ASSIGNMENT": true,
              "NUM_PAST_SAMPLES_TRACKED": 3,
              "DB_LOCATION": ":memory:",
              "GENERATE_DEX_METADATA": false,
              "ALLOW_NOTEABLE_ATTRS": true
            },
            "display_id": "5694e593-9d59-4088-be4d-19c0b8fe689f",
            "applied_filters": [],
            "sample_history": [],
            "sampling_time": "2023-05-30T06:04:04.916173",
            "variable_name": "unk_dataframe_cca73ad6004a4061ac9ccc9c2a2023da",
            "user_variable_name": null
          }
        },
        "id": "f1b506bd-83e8-4408-87cd-1a6f6c8e3e8f",
        "outputId": "4b41b600-7962-4699-fdac-0c99f9ca49a4"
      },
      "id": "f1b506bd-83e8-4408-87cd-1a6f6c8e3e8f"
    },
    {
      "cell_type": "code",
      "source": [
        "# Load the test data\n",
        "test_data = pd.read_csv('test.csv')\n",
        "test_data.head()"
      ],
      "outputs": [
        {
          "output_type": "display_data",
          "data": {
            "application/vnd.dataresource+json": {
              "schema": {
                "fields": [
                  {
                    "name": "index",
                    "type": "integer"
                  },
                  {
                    "name": "id",
                    "type": "integer"
                  },
                  {
                    "name": "Tranc_YearMonth",
                    "type": "string"
                  },
                  {
                    "name": "town",
                    "type": "string"
                  },
                  {
                    "name": "flat_type",
                    "type": "string"
                  },
                  {
                    "name": "block",
                    "type": "string"
                  },
                  {
                    "name": "street_name",
                    "type": "string"
                  },
                  {
                    "name": "storey_range",
                    "type": "string"
                  },
                  {
                    "name": "floor_area_sqm",
                    "type": "number"
                  },
                  {
                    "name": "flat_model",
                    "type": "string"
                  },
                  {
                    "name": "lease_commence_date",
                    "type": "integer"
                  },
                  {
                    "name": "Tranc_Year",
                    "type": "integer"
                  },
                  {
                    "name": "Tranc_Month",
                    "type": "integer"
                  },
                  {
                    "name": "mid_storey",
                    "type": "integer"
                  },
                  {
                    "name": "lower",
                    "type": "integer"
                  },
                  {
                    "name": "upper",
                    "type": "integer"
                  },
                  {
                    "name": "mid",
                    "type": "integer"
                  },
                  {
                    "name": "full_flat_type",
                    "type": "string"
                  },
                  {
                    "name": "address",
                    "type": "string"
                  },
                  {
                    "name": "floor_area_sqft",
                    "type": "number"
                  },
                  {
                    "name": "price_per_sqft",
                    "type": "number"
                  },
                  {
                    "name": "hdb_age",
                    "type": "integer"
                  },
                  {
                    "name": "max_floor_lvl",
                    "type": "integer"
                  },
                  {
                    "name": "year_completed",
                    "type": "integer"
                  },
                  {
                    "name": "residential",
                    "type": "string"
                  },
                  {
                    "name": "commercial",
                    "type": "string"
                  },
                  {
                    "name": "market_hawker",
                    "type": "string"
                  },
                  {
                    "name": "multistorey_carpark",
                    "type": "string"
                  },
                  {
                    "name": "precinct_pavilion",
                    "type": "string"
                  },
                  {
                    "name": "total_dwelling_units",
                    "type": "integer"
                  },
                  {
                    "name": "1room_sold",
                    "type": "integer"
                  },
                  {
                    "name": "2room_sold",
                    "type": "integer"
                  },
                  {
                    "name": "3room_sold",
                    "type": "integer"
                  },
                  {
                    "name": "4room_sold",
                    "type": "integer"
                  },
                  {
                    "name": "5room_sold",
                    "type": "integer"
                  },
                  {
                    "name": "exec_sold",
                    "type": "integer"
                  },
                  {
                    "name": "multigen_sold",
                    "type": "integer"
                  },
                  {
                    "name": "studio_apartment_sold",
                    "type": "integer"
                  },
                  {
                    "name": "1room_rental",
                    "type": "integer"
                  },
                  {
                    "name": "2room_rental",
                    "type": "integer"
                  },
                  {
                    "name": "3room_rental",
                    "type": "integer"
                  },
                  {
                    "name": "other_room_rental",
                    "type": "integer"
                  },
                  {
                    "name": "postal",
                    "type": "string"
                  },
                  {
                    "name": "Latitude",
                    "type": "number"
                  },
                  {
                    "name": "Longitude",
                    "type": "number"
                  },
                  {
                    "name": "planning_area",
                    "type": "string"
                  },
                  {
                    "name": "Mall_Nearest_Distance",
                    "type": "number"
                  },
                  {
                    "name": "Mall_Within_500m",
                    "type": "number"
                  },
                  {
                    "name": "Mall_Within_1km",
                    "type": "number"
                  },
                  {
                    "name": "Mall_Within_2km",
                    "type": "number"
                  },
                  {
                    "name": "Hawker_Nearest_Distance",
                    "type": "number"
                  },
                  {
                    "name": "Hawker_Within_500m",
                    "type": "number"
                  },
                  {
                    "name": "Hawker_Within_1km",
                    "type": "number"
                  },
                  {
                    "name": "Hawker_Within_2km",
                    "type": "number"
                  },
                  {
                    "name": "hawker_food_stalls",
                    "type": "integer"
                  },
                  {
                    "name": "hawker_market_stalls",
                    "type": "integer"
                  },
                  {
                    "name": "mrt_nearest_distance",
                    "type": "number"
                  },
                  {
                    "name": "mrt_name",
                    "type": "string"
                  },
                  {
                    "name": "bus_interchange",
                    "type": "integer"
                  },
                  {
                    "name": "mrt_interchange",
                    "type": "integer"
                  },
                  {
                    "name": "mrt_latitude",
                    "type": "number"
                  },
                  {
                    "name": "mrt_longitude",
                    "type": "number"
                  },
                  {
                    "name": "bus_stop_nearest_distance",
                    "type": "number"
                  },
                  {
                    "name": "bus_stop_name",
                    "type": "string"
                  },
                  {
                    "name": "bus_stop_latitude",
                    "type": "number"
                  },
                  {
                    "name": "bus_stop_longitude",
                    "type": "number"
                  },
                  {
                    "name": "pri_sch_nearest_distance",
                    "type": "number"
                  },
                  {
                    "name": "pri_sch_name",
                    "type": "string"
                  },
                  {
                    "name": "vacancy",
                    "type": "integer"
                  },
                  {
                    "name": "pri_sch_affiliation",
                    "type": "integer"
                  },
                  {
                    "name": "pri_sch_latitude",
                    "type": "number"
                  },
                  {
                    "name": "pri_sch_longitude",
                    "type": "number"
                  },
                  {
                    "name": "sec_sch_nearest_dist",
                    "type": "number"
                  },
                  {
                    "name": "sec_sch_name",
                    "type": "string"
                  },
                  {
                    "name": "cutoff_point",
                    "type": "integer"
                  },
                  {
                    "name": "affiliation",
                    "type": "integer"
                  },
                  {
                    "name": "sec_sch_latitude",
                    "type": "number"
                  },
                  {
                    "name": "sec_sch_longitude",
                    "type": "number"
                  }
                ],
                "primaryKey": [
                  "index"
                ],
                "pandas_version": "1.4.0"
              },
              "data": [
                {
                  "index": 0,
                  "id": 114982,
                  "Tranc_YearMonth": "2012-11",
                  "town": "YISHUN",
                  "flat_type": "4 ROOM",
                  "block": "173",
                  "street_name": "YISHUN AVE 7",
                  "storey_range": "07 TO 09",
                  "floor_area_sqm": 84,
                  "flat_model": "Simplified",
                  "lease_commence_date": 1987,
                  "Tranc_Year": 2012,
                  "Tranc_Month": 11,
                  "mid_storey": 8,
                  "lower": 7,
                  "upper": 9,
                  "mid": 8,
                  "full_flat_type": "4 ROOM Simplified",
                  "address": "173, YISHUN AVE 7",
                  "floor_area_sqft": 904.176,
                  "price_per_sqft": 399.2585514,
                  "hdb_age": 34,
                  "max_floor_lvl": 12,
                  "year_completed": 1986,
                  "residential": "Y",
                  "commercial": "Y",
                  "market_hawker": "N",
                  "multistorey_carpark": "N",
                  "precinct_pavilion": "N",
                  "total_dwelling_units": 132,
                  "1room_sold": 0,
                  "2room_sold": 0,
                  "3room_sold": 0,
                  "4room_sold": 92,
                  "5room_sold": 40,
                  "exec_sold": 0,
                  "multigen_sold": 0,
                  "studio_apartment_sold": 0,
                  "1room_rental": 0,
                  "2room_rental": 0,
                  "3room_rental": 0,
                  "other_room_rental": 0,
                  "postal": "760173",
                  "Latitude": 1.437066282,
                  "Longitude": 103.8311207,
                  "planning_area": "Yishun",
                  "Mall_Nearest_Distance": 877.4315718,
                  "Mall_Within_500m": null,
                  "Mall_Within_1km": 2,
                  "Mall_Within_2km": 4,
                  "Hawker_Nearest_Distance": 687.5767787,
                  "Hawker_Within_500m": null,
                  "Hawker_Within_1km": 1,
                  "Hawker_Within_2km": 1,
                  "hawker_food_stalls": 56,
                  "hawker_market_stalls": 123,
                  "mrt_nearest_distance": 686.6604343,
                  "mrt_name": "Canberra",
                  "bus_interchange": 0,
                  "mrt_interchange": 0,
                  "mrt_latitude": 1.443076641,
                  "mrt_longitude": 103.8297026,
                  "bus_stop_nearest_distance": 75.68395229,
                  "bus_stop_name": "Blk 174",
                  "bus_stop_latitude": 1.437558035,
                  "bus_stop_longitude": 103.8315914,
                  "pri_sch_nearest_distance": 426.4679096,
                  "pri_sch_name": "Ahmad Ibrahim Primary School",
                  "vacancy": 92,
                  "pri_sch_affiliation": 0,
                  "pri_sch_latitude": 1.433681207,
                  "pri_sch_longitude": 103.8329243,
                  "sec_sch_nearest_dist": 156.3223533,
                  "sec_sch_name": "Ahmad Ibrahim Secondary School",
                  "cutoff_point": 218,
                  "affiliation": 0,
                  "sec_sch_latitude": 1.436235146,
                  "sec_sch_longitude": 103.8299865
                },
                {
                  "index": 1,
                  "id": 95653,
                  "Tranc_YearMonth": "2019-08",
                  "town": "JURONG WEST",
                  "flat_type": "5 ROOM",
                  "block": "986C",
                  "street_name": "JURONG WEST ST 93",
                  "storey_range": "04 TO 06",
                  "floor_area_sqm": 112,
                  "flat_model": "Premium Apartment",
                  "lease_commence_date": 2008,
                  "Tranc_Year": 2019,
                  "Tranc_Month": 8,
                  "mid_storey": 5,
                  "lower": 4,
                  "upper": 6,
                  "mid": 5,
                  "full_flat_type": "5 ROOM Premium Apartment",
                  "address": "986C, JURONG WEST ST 93",
                  "floor_area_sqft": 1205.568,
                  "price_per_sqft": 398.1525721,
                  "hdb_age": 13,
                  "max_floor_lvl": 14,
                  "year_completed": 2002,
                  "residential": "Y",
                  "commercial": "N",
                  "market_hawker": "N",
                  "multistorey_carpark": "N",
                  "precinct_pavilion": "N",
                  "total_dwelling_units": 53,
                  "1room_sold": 0,
                  "2room_sold": 0,
                  "3room_sold": 0,
                  "4room_sold": 28,
                  "5room_sold": 25,
                  "exec_sold": 0,
                  "multigen_sold": 0,
                  "studio_apartment_sold": 0,
                  "1room_rental": 0,
                  "2room_rental": 0,
                  "3room_rental": 0,
                  "other_room_rental": 0,
                  "postal": "643986",
                  "Latitude": 1.336957064,
                  "Longitude": 103.6956682,
                  "planning_area": "Jurong West",
                  "Mall_Nearest_Distance": 534.0377046,
                  "Mall_Within_500m": null,
                  "Mall_Within_1km": 1,
                  "Mall_Within_2km": 3,
                  "Hawker_Nearest_Distance": 2122.346226,
                  "Hawker_Within_500m": null,
                  "Hawker_Within_1km": null,
                  "Hawker_Within_2km": null,
                  "hawker_food_stalls": 72,
                  "hawker_market_stalls": 94,
                  "mrt_nearest_distance": 169.4781754,
                  "mrt_name": "Pioneer",
                  "bus_interchange": 0,
                  "mrt_interchange": 0,
                  "mrt_latitude": 1.337342939,
                  "mrt_longitude": 103.6971431,
                  "bus_stop_nearest_distance": 88.99305773,
                  "bus_stop_name": "Blk 653B",
                  "bus_stop_latitude": 1.336490625,
                  "bus_stop_longitude": 103.6963187,
                  "pri_sch_nearest_distance": 439.7568514,
                  "pri_sch_name": "Jurong West Primary School",
                  "vacancy": 45,
                  "pri_sch_affiliation": 0,
                  "pri_sch_latitude": 1.339243753,
                  "pri_sch_longitude": 103.6988958,
                  "sec_sch_nearest_dist": 739.3716881,
                  "sec_sch_name": "Jurong West Secondary School",
                  "cutoff_point": 199,
                  "affiliation": 0,
                  "sec_sch_latitude": 1.335256345,
                  "sec_sch_longitude": 103.7020981
                },
                {
                  "index": 2,
                  "id": 40303,
                  "Tranc_YearMonth": "2013-10",
                  "town": "ANG MO KIO",
                  "flat_type": "3 ROOM",
                  "block": "534",
                  "street_name": "ANG MO KIO AVE 10",
                  "storey_range": "07 TO 09",
                  "floor_area_sqm": 68,
                  "flat_model": "New Generation",
                  "lease_commence_date": 1980,
                  "Tranc_Year": 2013,
                  "Tranc_Month": 10,
                  "mid_storey": 8,
                  "lower": 7,
                  "upper": 9,
                  "mid": 8,
                  "full_flat_type": "3 ROOM New Generation",
                  "address": "534, ANG MO KIO AVE 10",
                  "floor_area_sqft": 731.952,
                  "price_per_sqft": 479.3866264,
                  "hdb_age": 41,
                  "max_floor_lvl": 12,
                  "year_completed": 1979,
                  "residential": "Y",
                  "commercial": "N",
                  "market_hawker": "N",
                  "multistorey_carpark": "N",
                  "precinct_pavilion": "N",
                  "total_dwelling_units": 218,
                  "1room_sold": 0,
                  "2room_sold": 0,
                  "3room_sold": 191,
                  "4room_sold": 22,
                  "5room_sold": 1,
                  "exec_sold": 1,
                  "multigen_sold": 0,
                  "studio_apartment_sold": 0,
                  "1room_rental": 0,
                  "2room_rental": 0,
                  "3room_rental": 3,
                  "other_room_rental": 0,
                  "postal": "560534",
                  "Latitude": 1.374058463,
                  "Longitude": 103.8541682,
                  "planning_area": "Ang Mo Kio",
                  "Mall_Nearest_Distance": 817.0504528,
                  "Mall_Within_500m": null,
                  "Mall_Within_1km": 2,
                  "Mall_Within_2km": 3,
                  "Hawker_Nearest_Distance": 152.2876206,
                  "Hawker_Within_500m": 1,
                  "Hawker_Within_1km": 3,
                  "Hawker_Within_2km": 11,
                  "hawker_food_stalls": 50,
                  "hawker_market_stalls": 100,
                  "mrt_nearest_distance": 694.2204485,
                  "mrt_name": "Ang Mo Kio",
                  "bus_interchange": 1,
                  "mrt_interchange": 0,
                  "mrt_latitude": 1.369464707,
                  "mrt_longitude": 103.849939,
                  "bus_stop_nearest_distance": 86.30357515,
                  "bus_stop_name": "Blk 532",
                  "bus_stop_latitude": 1.37425473,
                  "bus_stop_longitude": 103.8549193,
                  "pri_sch_nearest_distance": 355.8822075,
                  "pri_sch_name": "Jing Shan Primary School",
                  "vacancy": 36,
                  "pri_sch_affiliation": 0,
                  "pri_sch_latitude": 1.371892676,
                  "pri_sch_longitude": 103.8518111,
                  "sec_sch_nearest_dist": 305.071191,
                  "sec_sch_name": "Anderson Secondary School",
                  "cutoff_point": 245,
                  "affiliation": 0,
                  "sec_sch_latitude": 1.374242189,
                  "sec_sch_longitude": 103.85143
                },
                {
                  "index": 3,
                  "id": 109506,
                  "Tranc_YearMonth": "2017-10",
                  "town": "WOODLANDS",
                  "flat_type": "4 ROOM",
                  "block": "29",
                  "street_name": "MARSILING DR",
                  "storey_range": "01 TO 03",
                  "floor_area_sqm": 97,
                  "flat_model": "New Generation",
                  "lease_commence_date": 1979,
                  "Tranc_Year": 2017,
                  "Tranc_Month": 10,
                  "mid_storey": 2,
                  "lower": 1,
                  "upper": 3,
                  "mid": 2,
                  "full_flat_type": "4 ROOM New Generation",
                  "address": "29, MARSILING DR",
                  "floor_area_sqft": 1044.108,
                  "price_per_sqft": 306.481705,
                  "hdb_age": 42,
                  "max_floor_lvl": 14,
                  "year_completed": 1976,
                  "residential": "Y",
                  "commercial": "N",
                  "market_hawker": "N",
                  "multistorey_carpark": "N",
                  "precinct_pavilion": "N",
                  "total_dwelling_units": 104,
                  "1room_sold": 0,
                  "2room_sold": 0,
                  "3room_sold": 0,
                  "4room_sold": 104,
                  "5room_sold": 0,
                  "exec_sold": 0,
                  "multigen_sold": 0,
                  "studio_apartment_sold": 0,
                  "1room_rental": 0,
                  "2room_rental": 0,
                  "3room_rental": 0,
                  "other_room_rental": 0,
                  "postal": "731029",
                  "Latitude": 1.442748457,
                  "Longitude": 103.7729218,
                  "planning_area": "Woodlands",
                  "Mall_Nearest_Distance": 1272.737194,
                  "Mall_Within_500m": null,
                  "Mall_Within_1km": null,
                  "Mall_Within_2km": 3,
                  "Hawker_Nearest_Distance": 501.8921585,
                  "Hawker_Within_500m": null,
                  "Hawker_Within_1km": 1,
                  "Hawker_Within_2km": 2,
                  "hawker_food_stalls": 52,
                  "hawker_market_stalls": 112,
                  "mrt_nearest_distance": 1117.203587,
                  "mrt_name": "Marsiling",
                  "bus_interchange": 0,
                  "mrt_interchange": 0,
                  "mrt_latitude": 1.43275723,
                  "mrt_longitude": 103.7739817,
                  "bus_stop_nearest_distance": 108.4590392,
                  "bus_stop_name": "Blk 32",
                  "bus_stop_latitude": 1.443649596,
                  "bus_stop_longitude": 103.7732952,
                  "pri_sch_nearest_distance": 929.7447112,
                  "pri_sch_name": "Marsiling Primary School",
                  "vacancy": 54,
                  "pri_sch_affiliation": 0,
                  "pri_sch_latitude": 1.434423117,
                  "pri_sch_longitude": 103.7736977,
                  "sec_sch_nearest_dist": 433.4545909,
                  "sec_sch_name": "Woodlands Secondary School",
                  "cutoff_point": 188,
                  "affiliation": 0,
                  "sec_sch_latitude": 1.439183317,
                  "sec_sch_longitude": 103.7744988
                },
                {
                  "index": 4,
                  "id": 100149,
                  "Tranc_YearMonth": "2016-08",
                  "town": "BUKIT BATOK",
                  "flat_type": "4 ROOM",
                  "block": "170",
                  "street_name": "BT BATOK WEST AVE 8",
                  "storey_range": "16 TO 18",
                  "floor_area_sqm": 103,
                  "flat_model": "Model A",
                  "lease_commence_date": 1985,
                  "Tranc_Year": 2016,
                  "Tranc_Month": 8,
                  "mid_storey": 17,
                  "lower": 16,
                  "upper": 18,
                  "mid": 17,
                  "full_flat_type": "4 ROOM Model A",
                  "address": "170, BT BATOK WEST AVE 8",
                  "floor_area_sqft": 1108.692,
                  "price_per_sqft": 360.7846002,
                  "hdb_age": 36,
                  "max_floor_lvl": 25,
                  "year_completed": 1985,
                  "residential": "Y",
                  "commercial": "N",
                  "market_hawker": "N",
                  "multistorey_carpark": "N",
                  "precinct_pavilion": "N",
                  "total_dwelling_units": 144,
                  "1room_sold": 0,
                  "2room_sold": 0,
                  "3room_sold": 0,
                  "4room_sold": 48,
                  "5room_sold": 96,
                  "exec_sold": 0,
                  "multigen_sold": 0,
                  "studio_apartment_sold": 0,
                  "1room_rental": 0,
                  "2room_rental": 0,
                  "3room_rental": 0,
                  "other_room_rental": 0,
                  "postal": "650170",
                  "Latitude": 1.34655585,
                  "Longitude": 103.7401015,
                  "planning_area": "Bukit Batok",
                  "Mall_Nearest_Distance": 1070.963675,
                  "Mall_Within_500m": null,
                  "Mall_Within_1km": null,
                  "Mall_Within_2km": 5,
                  "Hawker_Nearest_Distance": 437.5935644,
                  "Hawker_Within_500m": 1,
                  "Hawker_Within_1km": 2,
                  "Hawker_Within_2km": 2,
                  "hawker_food_stalls": 60,
                  "hawker_market_stalls": 87,
                  "mrt_nearest_distance": 987.9760097,
                  "mrt_name": "Chinese Garden",
                  "bus_interchange": 0,
                  "mrt_interchange": 0,
                  "mrt_latitude": 1.342440843,
                  "mrt_longitude": 103.7322246,
                  "bus_stop_nearest_distance": 113.6454312,
                  "bus_stop_name": "Blk 169",
                  "bus_stop_latitude": 1.346898822,
                  "bus_stop_longitude": 103.7410645,
                  "pri_sch_nearest_distance": 309.9269336,
                  "pri_sch_name": "Princess Elizabeth Primary School",
                  "vacancy": 40,
                  "pri_sch_affiliation": 0,
                  "pri_sch_latitude": 1.349194518,
                  "pri_sch_longitude": 103.7409996,
                  "sec_sch_nearest_dist": 217.2953611,
                  "sec_sch_name": "Bukit Batok Secondary School",
                  "cutoff_point": 223,
                  "affiliation": 0,
                  "sec_sch_latitude": 1.348351215,
                  "sec_sch_longitude": 103.7408734
                }
              ],
              "datalink": {
                "display_id": "b83ccadd-451d-4f64-b63b-15f443bab9a8"
              }
            }
          },
          "metadata": {
            "application/vnd.dataresource+json": {
              "datalink": {
                "dataframe_info": {
                  "default_index_used": true,
                  "orig_size_bytes": 3208,
                  "orig_num_rows": 5,
                  "orig_num_cols": 77,
                  "truncated_string_columns": [],
                  "truncated_size_bytes": 3208,
                  "truncated_num_rows": 5,
                  "truncated_num_cols": 77
                },
                "dx_settings": {
                  "NUM_PAST_SAMPLES_TRACKED": 3,
                  "ENABLE_DATALINK": true,
                  "DISPLAY_MODE": "simple",
                  "GENERATE_DEX_METADATA": false,
                  "STRINGIFY_INDEX_VALUES": false,
                  "ALLOW_NOTEABLE_ATTRS": true,
                  "DISPLAY_MAX_COLUMNS": 100,
                  "HTML_TABLE_SCHEMA": false,
                  "SAMPLING_FACTOR": 0.1,
                  "LOG_LEVEL": 30,
                  "ENABLE_ASSIGNMENT": true,
                  "FLATTEN_INDEX_VALUES": false,
                  "DEV_MODE": false,
                  "COLUMN_SAMPLING_METHOD": "outer",
                  "FLATTEN_COLUMN_VALUES": true,
                  "DISPLAY_MAX_ROWS": 50000,
                  "ROW_SAMPLING_METHOD": "random",
                  "RANDOM_STATE": 12648430,
                  "DB_LOCATION": ":memory:",
                  "STRINGIFY_COLUMN_VALUES": true,
                  "SAMPLING_METHOD": "random",
                  "MAX_STRING_LENGTH": 250,
                  "MAX_RENDER_SIZE_BYTES": 104857600,
                  "RESET_INDEX_VALUES": false
                },
                "display_id": "b83ccadd-451d-4f64-b63b-15f443bab9a8",
                "applied_filters": [],
                "sample_history": [],
                "sampling_time": "2023-05-30T06:04:09.033666",
                "variable_name": "unk_dataframe_714208ce9be74806b7a9f38ad8f24f36",
                "user_variable_name": null
              },
              "display_id": "b83ccadd-451d-4f64-b63b-15f443bab9a8"
            }
          }
        }
      ],
      "execution_count": null,
      "metadata": {
        "jupyter": {
          "outputs_hidden": false,
          "source_hidden": false
        },
        "noteable": {
          "cell_type": "code"
        },
        "ExecuteTime": {
          "start_time": "2023-05-30T06:04:08.650576+00:00",
          "end_time": "2023-05-30T06:04:09.211377+00:00"
        },
        "datalink": {
          "e3d26bb7-1a60-405b-b759-dd0bba7977f5": {
            "applied_filters": [],
            "dataframe_info": {
              "default_index_used": true,
              "orig_num_cols": 77,
              "orig_num_rows": 5,
              "orig_size_bytes": 3208,
              "truncated_num_cols": 77,
              "truncated_num_rows": 5,
              "truncated_size_bytes": 3208,
              "truncated_string_columns": []
            },
            "display_id": "e3d26bb7-1a60-405b-b759-dd0bba7977f5",
            "dx_settings": {
              "ALLOW_NOTEABLE_ATTRS": true,
              "COLUMN_SAMPLING_METHOD": "outer",
              "DB_LOCATION": ":memory:",
              "DEV_MODE": false,
              "DISPLAY_MAX_COLUMNS": 100,
              "DISPLAY_MAX_ROWS": 50000,
              "DISPLAY_MODE": "simple",
              "ENABLE_ASSIGNMENT": true,
              "ENABLE_DATALINK": true,
              "FLATTEN_COLUMN_VALUES": true,
              "FLATTEN_INDEX_VALUES": false,
              "GENERATE_DEX_METADATA": false,
              "HTML_TABLE_SCHEMA": false,
              "LOG_LEVEL": 30,
              "MAX_RENDER_SIZE_BYTES": 104857600,
              "MAX_STRING_LENGTH": 250,
              "NUM_PAST_SAMPLES_TRACKED": 3,
              "RANDOM_STATE": 12648430,
              "RESET_INDEX_VALUES": false,
              "ROW_SAMPLING_METHOD": "random",
              "SAMPLING_FACTOR": 0.1,
              "SAMPLING_METHOD": "random",
              "STRINGIFY_COLUMN_VALUES": true,
              "STRINGIFY_INDEX_VALUES": false
            },
            "sample_history": [],
            "sampling_time": "2023-05-30T05:59:17.575743",
            "user_variable_name": null,
            "variable_name": "unk_dataframe_c62cc712c53b4d6fa29ef4221bab2d45"
          },
          "998d95a4-d1b4-4b02-955e-c4d9967a194c": {
            "dataframe_info": {
              "default_index_used": true,
              "orig_size_bytes": 3208,
              "orig_num_rows": 5,
              "orig_num_cols": 77,
              "truncated_string_columns": [],
              "truncated_size_bytes": 3208,
              "truncated_num_rows": 5,
              "truncated_num_cols": 77
            },
            "dx_settings": {
              "LOG_LEVEL": 30,
              "DEV_MODE": false,
              "DISPLAY_MAX_ROWS": 50000,
              "DISPLAY_MAX_COLUMNS": 100,
              "HTML_TABLE_SCHEMA": false,
              "MAX_RENDER_SIZE_BYTES": 104857600,
              "MAX_STRING_LENGTH": 250,
              "SAMPLING_FACTOR": 0.1,
              "DISPLAY_MODE": "simple",
              "SAMPLING_METHOD": "random",
              "COLUMN_SAMPLING_METHOD": "outer",
              "ROW_SAMPLING_METHOD": "random",
              "RANDOM_STATE": 12648430,
              "RESET_INDEX_VALUES": false,
              "FLATTEN_INDEX_VALUES": false,
              "FLATTEN_COLUMN_VALUES": true,
              "STRINGIFY_INDEX_VALUES": false,
              "STRINGIFY_COLUMN_VALUES": true,
              "ENABLE_DATALINK": true,
              "ENABLE_ASSIGNMENT": true,
              "NUM_PAST_SAMPLES_TRACKED": 3,
              "DB_LOCATION": ":memory:",
              "GENERATE_DEX_METADATA": false,
              "ALLOW_NOTEABLE_ATTRS": true
            },
            "display_id": "998d95a4-d1b4-4b02-955e-c4d9967a194c",
            "applied_filters": [],
            "sample_history": [],
            "sampling_time": "2023-05-30T06:02:58.695796",
            "variable_name": "unk_dataframe_67e5783d66a846609d8ca6ed20448c2a",
            "user_variable_name": null
          },
          "b83ccadd-451d-4f64-b63b-15f443bab9a8": {
            "dataframe_info": {
              "default_index_used": true,
              "orig_size_bytes": 3208,
              "orig_num_rows": 5,
              "orig_num_cols": 77,
              "truncated_string_columns": [],
              "truncated_size_bytes": 3208,
              "truncated_num_rows": 5,
              "truncated_num_cols": 77
            },
            "dx_settings": {
              "LOG_LEVEL": 30,
              "DEV_MODE": false,
              "DISPLAY_MAX_ROWS": 50000,
              "DISPLAY_MAX_COLUMNS": 100,
              "HTML_TABLE_SCHEMA": false,
              "MAX_RENDER_SIZE_BYTES": 104857600,
              "MAX_STRING_LENGTH": 250,
              "SAMPLING_FACTOR": 0.1,
              "DISPLAY_MODE": "simple",
              "SAMPLING_METHOD": "random",
              "COLUMN_SAMPLING_METHOD": "outer",
              "ROW_SAMPLING_METHOD": "random",
              "RANDOM_STATE": 12648430,
              "RESET_INDEX_VALUES": false,
              "FLATTEN_INDEX_VALUES": false,
              "FLATTEN_COLUMN_VALUES": true,
              "STRINGIFY_INDEX_VALUES": false,
              "STRINGIFY_COLUMN_VALUES": true,
              "ENABLE_DATALINK": true,
              "ENABLE_ASSIGNMENT": true,
              "NUM_PAST_SAMPLES_TRACKED": 3,
              "DB_LOCATION": ":memory:",
              "GENERATE_DEX_METADATA": false,
              "ALLOW_NOTEABLE_ATTRS": true
            },
            "display_id": "b83ccadd-451d-4f64-b63b-15f443bab9a8",
            "applied_filters": [],
            "sample_history": [],
            "sampling_time": "2023-05-30T06:04:09.033666",
            "variable_name": "unk_dataframe_714208ce9be74806b7a9f38ad8f24f36",
            "user_variable_name": null
          }
        },
        "id": "1e839105-7a41-4e01-b010-564d45cc7f6c",
        "outputId": "33f878be-ef5a-4f2b-c284-1c082f56fa26"
      },
      "id": "1e839105-7a41-4e01-b010-564d45cc7f6c"
    },
    {
      "cell_type": "code",
      "source": [
        "# Check for missing values in the training data\n",
        "train_data.isnull().sum()"
      ],
      "outputs": [
        {
          "output_type": "display_data",
          "data": {
            "application/vnd.dataresource+json": {
              "schema": {
                "fields": [
                  {
                    "name": "index",
                    "type": "string"
                  },
                  {
                    "name": "0",
                    "type": "integer"
                  }
                ],
                "primaryKey": [
                  "index"
                ],
                "pandas_version": "1.4.0"
              },
              "data": [
                {
                  "0": 0,
                  "index": "id"
                },
                {
                  "0": 0,
                  "index": "Tranc_YearMonth"
                },
                {
                  "0": 0,
                  "index": "town"
                },
                {
                  "0": 0,
                  "index": "flat_type"
                },
                {
                  "0": 0,
                  "index": "block"
                },
                {
                  "0": 0,
                  "index": "street_name"
                },
                {
                  "0": 0,
                  "index": "storey_range"
                },
                {
                  "0": 0,
                  "index": "floor_area_sqm"
                },
                {
                  "0": 0,
                  "index": "flat_model"
                },
                {
                  "0": 0,
                  "index": "lease_commence_date"
                },
                {
                  "0": 0,
                  "index": "resale_price"
                },
                {
                  "0": 0,
                  "index": "Tranc_Year"
                },
                {
                  "0": 0,
                  "index": "Tranc_Month"
                },
                {
                  "0": 0,
                  "index": "mid_storey"
                },
                {
                  "0": 0,
                  "index": "lower"
                },
                {
                  "0": 0,
                  "index": "upper"
                },
                {
                  "0": 0,
                  "index": "mid"
                },
                {
                  "0": 0,
                  "index": "full_flat_type"
                },
                {
                  "0": 0,
                  "index": "address"
                },
                {
                  "0": 0,
                  "index": "floor_area_sqft"
                },
                {
                  "0": 0,
                  "index": "price_per_sqft"
                },
                {
                  "0": 0,
                  "index": "hdb_age"
                },
                {
                  "0": 0,
                  "index": "max_floor_lvl"
                },
                {
                  "0": 0,
                  "index": "year_completed"
                },
                {
                  "0": 0,
                  "index": "residential"
                },
                {
                  "0": 0,
                  "index": "commercial"
                },
                {
                  "0": 0,
                  "index": "market_hawker"
                },
                {
                  "0": 0,
                  "index": "multistorey_carpark"
                },
                {
                  "0": 0,
                  "index": "precinct_pavilion"
                },
                {
                  "0": 0,
                  "index": "total_dwelling_units"
                },
                {
                  "0": 0,
                  "index": "1room_sold"
                },
                {
                  "0": 0,
                  "index": "2room_sold"
                },
                {
                  "0": 0,
                  "index": "3room_sold"
                },
                {
                  "0": 0,
                  "index": "4room_sold"
                },
                {
                  "0": 0,
                  "index": "5room_sold"
                },
                {
                  "0": 0,
                  "index": "exec_sold"
                },
                {
                  "0": 0,
                  "index": "multigen_sold"
                },
                {
                  "0": 0,
                  "index": "studio_apartment_sold"
                },
                {
                  "0": 0,
                  "index": "1room_rental"
                },
                {
                  "0": 0,
                  "index": "2room_rental"
                },
                {
                  "0": 0,
                  "index": "3room_rental"
                },
                {
                  "0": 0,
                  "index": "other_room_rental"
                },
                {
                  "0": 0,
                  "index": "postal"
                },
                {
                  "0": 0,
                  "index": "Latitude"
                },
                {
                  "0": 0,
                  "index": "Longitude"
                },
                {
                  "0": 0,
                  "index": "planning_area"
                },
                {
                  "0": 829,
                  "index": "Mall_Nearest_Distance"
                },
                {
                  "0": 92789,
                  "index": "Mall_Within_500m"
                },
                {
                  "0": 25426,
                  "index": "Mall_Within_1km"
                },
                {
                  "0": 1940,
                  "index": "Mall_Within_2km"
                },
                {
                  "0": 0,
                  "index": "Hawker_Nearest_Distance"
                },
                {
                  "0": 97390,
                  "index": "Hawker_Within_500m"
                },
                {
                  "0": 60868,
                  "index": "Hawker_Within_1km"
                },
                {
                  "0": 29202,
                  "index": "Hawker_Within_2km"
                },
                {
                  "0": 0,
                  "index": "hawker_food_stalls"
                },
                {
                  "0": 0,
                  "index": "hawker_market_stalls"
                },
                {
                  "0": 0,
                  "index": "mrt_nearest_distance"
                },
                {
                  "0": 0,
                  "index": "mrt_name"
                },
                {
                  "0": 0,
                  "index": "bus_interchange"
                },
                {
                  "0": 0,
                  "index": "mrt_interchange"
                },
                {
                  "0": 0,
                  "index": "mrt_latitude"
                },
                {
                  "0": 0,
                  "index": "mrt_longitude"
                },
                {
                  "0": 0,
                  "index": "bus_stop_nearest_distance"
                },
                {
                  "0": 0,
                  "index": "bus_stop_name"
                },
                {
                  "0": 0,
                  "index": "bus_stop_latitude"
                },
                {
                  "0": 0,
                  "index": "bus_stop_longitude"
                },
                {
                  "0": 0,
                  "index": "pri_sch_nearest_distance"
                },
                {
                  "0": 0,
                  "index": "pri_sch_name"
                },
                {
                  "0": 0,
                  "index": "vacancy"
                },
                {
                  "0": 0,
                  "index": "pri_sch_affiliation"
                },
                {
                  "0": 0,
                  "index": "pri_sch_latitude"
                },
                {
                  "0": 0,
                  "index": "pri_sch_longitude"
                },
                {
                  "0": 0,
                  "index": "sec_sch_nearest_dist"
                },
                {
                  "0": 0,
                  "index": "sec_sch_name"
                },
                {
                  "0": 0,
                  "index": "cutoff_point"
                },
                {
                  "0": 0,
                  "index": "affiliation"
                },
                {
                  "0": 0,
                  "index": "sec_sch_latitude"
                },
                {
                  "0": 0,
                  "index": "sec_sch_longitude"
                }
              ],
              "datalink": {
                "display_id": "14c7a8b6-c31c-4548-8f1b-fd5a997ab21c"
              }
            }
          },
          "metadata": {
            "application/vnd.dataresource+json": {
              "datalink": {
                "dataframe_info": {
                  "default_index_used": false,
                  "orig_size_bytes": 1248,
                  "orig_num_rows": 78,
                  "orig_num_cols": 1,
                  "truncated_string_columns": [],
                  "truncated_size_bytes": 1248,
                  "truncated_num_rows": 78,
                  "truncated_num_cols": 1
                },
                "dx_settings": {
                  "NUM_PAST_SAMPLES_TRACKED": 3,
                  "ENABLE_DATALINK": true,
                  "DISPLAY_MODE": "simple",
                  "GENERATE_DEX_METADATA": false,
                  "STRINGIFY_INDEX_VALUES": false,
                  "ALLOW_NOTEABLE_ATTRS": true,
                  "DISPLAY_MAX_COLUMNS": 100,
                  "HTML_TABLE_SCHEMA": false,
                  "SAMPLING_FACTOR": 0.1,
                  "LOG_LEVEL": 30,
                  "ENABLE_ASSIGNMENT": true,
                  "FLATTEN_INDEX_VALUES": false,
                  "DEV_MODE": false,
                  "COLUMN_SAMPLING_METHOD": "outer",
                  "FLATTEN_COLUMN_VALUES": true,
                  "DISPLAY_MAX_ROWS": 50000,
                  "ROW_SAMPLING_METHOD": "random",
                  "RANDOM_STATE": 12648430,
                  "DB_LOCATION": ":memory:",
                  "STRINGIFY_COLUMN_VALUES": true,
                  "SAMPLING_METHOD": "random",
                  "MAX_STRING_LENGTH": 250,
                  "MAX_RENDER_SIZE_BYTES": 104857600,
                  "RESET_INDEX_VALUES": false
                },
                "display_id": "14c7a8b6-c31c-4548-8f1b-fd5a997ab21c",
                "applied_filters": [],
                "sample_history": [],
                "sampling_time": "2023-05-30T06:04:09.699984",
                "variable_name": "unk_dataframe_5b1fbd4e068e425ea7d3738ff64df5c9",
                "user_variable_name": null
              },
              "display_id": "14c7a8b6-c31c-4548-8f1b-fd5a997ab21c"
            }
          }
        }
      ],
      "execution_count": null,
      "metadata": {
        "jupyter": {
          "outputs_hidden": false,
          "source_hidden": false
        },
        "noteable": {
          "cell_type": "code"
        },
        "ExecuteTime": {
          "start_time": "2023-05-30T06:04:09.230116+00:00",
          "end_time": "2023-05-30T06:04:09.856100+00:00"
        },
        "datalink": {
          "272983b5-bf07-408c-a28d-8ee32fb751c4": {
            "applied_filters": [],
            "dataframe_info": {
              "default_index_used": false,
              "orig_num_cols": 1,
              "orig_num_rows": 78,
              "orig_size_bytes": 1248,
              "truncated_num_cols": 1,
              "truncated_num_rows": 78,
              "truncated_size_bytes": 1248,
              "truncated_string_columns": []
            },
            "display_id": "272983b5-bf07-408c-a28d-8ee32fb751c4",
            "dx_settings": {
              "ALLOW_NOTEABLE_ATTRS": true,
              "COLUMN_SAMPLING_METHOD": "outer",
              "DB_LOCATION": ":memory:",
              "DEV_MODE": false,
              "DISPLAY_MAX_COLUMNS": 100,
              "DISPLAY_MAX_ROWS": 50000,
              "DISPLAY_MODE": "simple",
              "ENABLE_ASSIGNMENT": true,
              "ENABLE_DATALINK": true,
              "FLATTEN_COLUMN_VALUES": true,
              "FLATTEN_INDEX_VALUES": false,
              "GENERATE_DEX_METADATA": false,
              "HTML_TABLE_SCHEMA": false,
              "LOG_LEVEL": 30,
              "MAX_RENDER_SIZE_BYTES": 104857600,
              "MAX_STRING_LENGTH": 250,
              "NUM_PAST_SAMPLES_TRACKED": 3,
              "RANDOM_STATE": 12648430,
              "RESET_INDEX_VALUES": false,
              "ROW_SAMPLING_METHOD": "random",
              "SAMPLING_FACTOR": 0.1,
              "SAMPLING_METHOD": "random",
              "STRINGIFY_COLUMN_VALUES": true,
              "STRINGIFY_INDEX_VALUES": false
            },
            "sample_history": [],
            "sampling_time": "2023-05-30T05:59:36.822083",
            "user_variable_name": null,
            "variable_name": "unk_dataframe_be3ec3c057d04998b59119f053a02582"
          },
          "21a5a1a0-747f-401b-ac70-cd46b77d69a5": {
            "dataframe_info": {
              "default_index_used": false,
              "orig_size_bytes": 1248,
              "orig_num_rows": 78,
              "orig_num_cols": 1,
              "truncated_string_columns": [],
              "truncated_size_bytes": 1248,
              "truncated_num_rows": 78,
              "truncated_num_cols": 1
            },
            "dx_settings": {
              "LOG_LEVEL": 30,
              "DEV_MODE": false,
              "DISPLAY_MAX_ROWS": 50000,
              "DISPLAY_MAX_COLUMNS": 100,
              "HTML_TABLE_SCHEMA": false,
              "MAX_RENDER_SIZE_BYTES": 104857600,
              "MAX_STRING_LENGTH": 250,
              "SAMPLING_FACTOR": 0.1,
              "DISPLAY_MODE": "simple",
              "SAMPLING_METHOD": "random",
              "COLUMN_SAMPLING_METHOD": "outer",
              "ROW_SAMPLING_METHOD": "random",
              "RANDOM_STATE": 12648430,
              "RESET_INDEX_VALUES": false,
              "FLATTEN_INDEX_VALUES": false,
              "FLATTEN_COLUMN_VALUES": true,
              "STRINGIFY_INDEX_VALUES": false,
              "STRINGIFY_COLUMN_VALUES": true,
              "ENABLE_DATALINK": true,
              "ENABLE_ASSIGNMENT": true,
              "NUM_PAST_SAMPLES_TRACKED": 3,
              "DB_LOCATION": ":memory:",
              "GENERATE_DEX_METADATA": false,
              "ALLOW_NOTEABLE_ATTRS": true
            },
            "display_id": "21a5a1a0-747f-401b-ac70-cd46b77d69a5",
            "applied_filters": [],
            "sample_history": [],
            "sampling_time": "2023-05-30T06:02:59.454237",
            "variable_name": "unk_dataframe_d542119b041a48b8852e1dcfb1579f68",
            "user_variable_name": null
          },
          "14c7a8b6-c31c-4548-8f1b-fd5a997ab21c": {
            "dataframe_info": {
              "default_index_used": false,
              "orig_size_bytes": 1248,
              "orig_num_rows": 78,
              "orig_num_cols": 1,
              "truncated_string_columns": [],
              "truncated_size_bytes": 1248,
              "truncated_num_rows": 78,
              "truncated_num_cols": 1
            },
            "dx_settings": {
              "LOG_LEVEL": 30,
              "DEV_MODE": false,
              "DISPLAY_MAX_ROWS": 50000,
              "DISPLAY_MAX_COLUMNS": 100,
              "HTML_TABLE_SCHEMA": false,
              "MAX_RENDER_SIZE_BYTES": 104857600,
              "MAX_STRING_LENGTH": 250,
              "SAMPLING_FACTOR": 0.1,
              "DISPLAY_MODE": "simple",
              "SAMPLING_METHOD": "random",
              "COLUMN_SAMPLING_METHOD": "outer",
              "ROW_SAMPLING_METHOD": "random",
              "RANDOM_STATE": 12648430,
              "RESET_INDEX_VALUES": false,
              "FLATTEN_INDEX_VALUES": false,
              "FLATTEN_COLUMN_VALUES": true,
              "STRINGIFY_INDEX_VALUES": false,
              "STRINGIFY_COLUMN_VALUES": true,
              "ENABLE_DATALINK": true,
              "ENABLE_ASSIGNMENT": true,
              "NUM_PAST_SAMPLES_TRACKED": 3,
              "DB_LOCATION": ":memory:",
              "GENERATE_DEX_METADATA": false,
              "ALLOW_NOTEABLE_ATTRS": true
            },
            "display_id": "14c7a8b6-c31c-4548-8f1b-fd5a997ab21c",
            "applied_filters": [],
            "sample_history": [],
            "sampling_time": "2023-05-30T06:04:09.699984",
            "variable_name": "unk_dataframe_5b1fbd4e068e425ea7d3738ff64df5c9",
            "user_variable_name": null
          }
        },
        "id": "adebca2f-22ce-47bf-8f8c-98ff8a7e9fd8",
        "outputId": "24447008-c334-4eb8-b3f2-1b5cedaf710e"
      },
      "id": "adebca2f-22ce-47bf-8f8c-98ff8a7e9fd8"
    },
    {
      "cell_type": "code",
      "source": [
        "# Check for missing values in the test data\n",
        "test_data.isnull().sum()"
      ],
      "outputs": [
        {
          "output_type": "display_data",
          "data": {
            "application/vnd.dataresource+json": {
              "schema": {
                "fields": [
                  {
                    "name": "index",
                    "type": "string"
                  },
                  {
                    "name": "0",
                    "type": "integer"
                  }
                ],
                "primaryKey": [
                  "index"
                ],
                "pandas_version": "1.4.0"
              },
              "data": [
                {
                  "0": 0,
                  "index": "id"
                },
                {
                  "0": 0,
                  "index": "Tranc_YearMonth"
                },
                {
                  "0": 0,
                  "index": "town"
                },
                {
                  "0": 0,
                  "index": "flat_type"
                },
                {
                  "0": 0,
                  "index": "block"
                },
                {
                  "0": 0,
                  "index": "street_name"
                },
                {
                  "0": 0,
                  "index": "storey_range"
                },
                {
                  "0": 0,
                  "index": "floor_area_sqm"
                },
                {
                  "0": 0,
                  "index": "flat_model"
                },
                {
                  "0": 0,
                  "index": "lease_commence_date"
                },
                {
                  "0": 0,
                  "index": "Tranc_Year"
                },
                {
                  "0": 0,
                  "index": "Tranc_Month"
                },
                {
                  "0": 0,
                  "index": "mid_storey"
                },
                {
                  "0": 0,
                  "index": "lower"
                },
                {
                  "0": 0,
                  "index": "upper"
                },
                {
                  "0": 0,
                  "index": "mid"
                },
                {
                  "0": 0,
                  "index": "full_flat_type"
                },
                {
                  "0": 0,
                  "index": "address"
                },
                {
                  "0": 0,
                  "index": "floor_area_sqft"
                },
                {
                  "0": 0,
                  "index": "price_per_sqft"
                },
                {
                  "0": 0,
                  "index": "hdb_age"
                },
                {
                  "0": 0,
                  "index": "max_floor_lvl"
                },
                {
                  "0": 0,
                  "index": "year_completed"
                },
                {
                  "0": 0,
                  "index": "residential"
                },
                {
                  "0": 0,
                  "index": "commercial"
                },
                {
                  "0": 0,
                  "index": "market_hawker"
                },
                {
                  "0": 0,
                  "index": "multistorey_carpark"
                },
                {
                  "0": 0,
                  "index": "precinct_pavilion"
                },
                {
                  "0": 0,
                  "index": "total_dwelling_units"
                },
                {
                  "0": 0,
                  "index": "1room_sold"
                },
                {
                  "0": 0,
                  "index": "2room_sold"
                },
                {
                  "0": 0,
                  "index": "3room_sold"
                },
                {
                  "0": 0,
                  "index": "4room_sold"
                },
                {
                  "0": 0,
                  "index": "5room_sold"
                },
                {
                  "0": 0,
                  "index": "exec_sold"
                },
                {
                  "0": 0,
                  "index": "multigen_sold"
                },
                {
                  "0": 0,
                  "index": "studio_apartment_sold"
                },
                {
                  "0": 0,
                  "index": "1room_rental"
                },
                {
                  "0": 0,
                  "index": "2room_rental"
                },
                {
                  "0": 0,
                  "index": "3room_rental"
                },
                {
                  "0": 0,
                  "index": "other_room_rental"
                },
                {
                  "0": 0,
                  "index": "postal"
                },
                {
                  "0": 0,
                  "index": "Latitude"
                },
                {
                  "0": 0,
                  "index": "Longitude"
                },
                {
                  "0": 0,
                  "index": "planning_area"
                },
                {
                  "0": 84,
                  "index": "Mall_Nearest_Distance"
                },
                {
                  "0": 10292,
                  "index": "Mall_Within_500m"
                },
                {
                  "0": 2786,
                  "index": "Mall_Within_1km"
                },
                {
                  "0": 213,
                  "index": "Mall_Within_2km"
                },
                {
                  "0": 0,
                  "index": "Hawker_Nearest_Distance"
                },
                {
                  "0": 10755,
                  "index": "Hawker_Within_500m"
                },
                {
                  "0": 6729,
                  "index": "Hawker_Within_1km"
                },
                {
                  "0": 3254,
                  "index": "Hawker_Within_2km"
                },
                {
                  "0": 0,
                  "index": "hawker_food_stalls"
                },
                {
                  "0": 0,
                  "index": "hawker_market_stalls"
                },
                {
                  "0": 0,
                  "index": "mrt_nearest_distance"
                },
                {
                  "0": 0,
                  "index": "mrt_name"
                },
                {
                  "0": 0,
                  "index": "bus_interchange"
                },
                {
                  "0": 0,
                  "index": "mrt_interchange"
                },
                {
                  "0": 0,
                  "index": "mrt_latitude"
                },
                {
                  "0": 0,
                  "index": "mrt_longitude"
                },
                {
                  "0": 0,
                  "index": "bus_stop_nearest_distance"
                },
                {
                  "0": 0,
                  "index": "bus_stop_name"
                },
                {
                  "0": 0,
                  "index": "bus_stop_latitude"
                },
                {
                  "0": 0,
                  "index": "bus_stop_longitude"
                },
                {
                  "0": 0,
                  "index": "pri_sch_nearest_distance"
                },
                {
                  "0": 0,
                  "index": "pri_sch_name"
                },
                {
                  "0": 0,
                  "index": "vacancy"
                },
                {
                  "0": 0,
                  "index": "pri_sch_affiliation"
                },
                {
                  "0": 0,
                  "index": "pri_sch_latitude"
                },
                {
                  "0": 0,
                  "index": "pri_sch_longitude"
                },
                {
                  "0": 0,
                  "index": "sec_sch_nearest_dist"
                },
                {
                  "0": 0,
                  "index": "sec_sch_name"
                },
                {
                  "0": 0,
                  "index": "cutoff_point"
                },
                {
                  "0": 0,
                  "index": "affiliation"
                },
                {
                  "0": 0,
                  "index": "sec_sch_latitude"
                },
                {
                  "0": 0,
                  "index": "sec_sch_longitude"
                }
              ],
              "datalink": {
                "display_id": "b17090dc-639f-4d9e-aa8f-12ed54e839b7"
              }
            }
          },
          "metadata": {
            "application/vnd.dataresource+json": {
              "datalink": {
                "dataframe_info": {
                  "default_index_used": false,
                  "orig_size_bytes": 1232,
                  "orig_num_rows": 77,
                  "orig_num_cols": 1,
                  "truncated_string_columns": [],
                  "truncated_size_bytes": 1232,
                  "truncated_num_rows": 77,
                  "truncated_num_cols": 1
                },
                "dx_settings": {
                  "NUM_PAST_SAMPLES_TRACKED": 3,
                  "ENABLE_DATALINK": true,
                  "DISPLAY_MODE": "simple",
                  "GENERATE_DEX_METADATA": false,
                  "STRINGIFY_INDEX_VALUES": false,
                  "ALLOW_NOTEABLE_ATTRS": true,
                  "DISPLAY_MAX_COLUMNS": 100,
                  "HTML_TABLE_SCHEMA": false,
                  "SAMPLING_FACTOR": 0.1,
                  "LOG_LEVEL": 30,
                  "ENABLE_ASSIGNMENT": true,
                  "FLATTEN_INDEX_VALUES": false,
                  "DEV_MODE": false,
                  "COLUMN_SAMPLING_METHOD": "outer",
                  "FLATTEN_COLUMN_VALUES": true,
                  "DISPLAY_MAX_ROWS": 50000,
                  "ROW_SAMPLING_METHOD": "random",
                  "RANDOM_STATE": 12648430,
                  "DB_LOCATION": ":memory:",
                  "STRINGIFY_COLUMN_VALUES": true,
                  "SAMPLING_METHOD": "random",
                  "MAX_STRING_LENGTH": 250,
                  "MAX_RENDER_SIZE_BYTES": 104857600,
                  "RESET_INDEX_VALUES": false
                },
                "display_id": "b17090dc-639f-4d9e-aa8f-12ed54e839b7",
                "applied_filters": [],
                "sample_history": [],
                "sampling_time": "2023-05-30T06:04:10.001007",
                "variable_name": "unk_dataframe_443256edac50457895c7b4a1d9a4926c",
                "user_variable_name": null
              },
              "display_id": "b17090dc-639f-4d9e-aa8f-12ed54e839b7"
            }
          }
        }
      ],
      "execution_count": null,
      "metadata": {
        "jupyter": {
          "outputs_hidden": false,
          "source_hidden": false
        },
        "noteable": {
          "cell_type": "code"
        },
        "ExecuteTime": {
          "start_time": "2023-05-30T06:04:09.922732+00:00",
          "end_time": "2023-05-30T06:04:10.156861+00:00"
        },
        "datalink": {
          "df5c2c28-7f56-44d8-bb82-5c638601bb2e": {
            "applied_filters": [],
            "dataframe_info": {
              "default_index_used": false,
              "orig_num_cols": 1,
              "orig_num_rows": 77,
              "orig_size_bytes": 1232,
              "truncated_num_cols": 1,
              "truncated_num_rows": 77,
              "truncated_size_bytes": 1232,
              "truncated_string_columns": []
            },
            "display_id": "df5c2c28-7f56-44d8-bb82-5c638601bb2e",
            "dx_settings": {
              "ALLOW_NOTEABLE_ATTRS": true,
              "COLUMN_SAMPLING_METHOD": "outer",
              "DB_LOCATION": ":memory:",
              "DEV_MODE": false,
              "DISPLAY_MAX_COLUMNS": 100,
              "DISPLAY_MAX_ROWS": 50000,
              "DISPLAY_MODE": "simple",
              "ENABLE_ASSIGNMENT": true,
              "ENABLE_DATALINK": true,
              "FLATTEN_COLUMN_VALUES": true,
              "FLATTEN_INDEX_VALUES": false,
              "GENERATE_DEX_METADATA": false,
              "HTML_TABLE_SCHEMA": false,
              "LOG_LEVEL": 30,
              "MAX_RENDER_SIZE_BYTES": 104857600,
              "MAX_STRING_LENGTH": 250,
              "NUM_PAST_SAMPLES_TRACKED": 3,
              "RANDOM_STATE": 12648430,
              "RESET_INDEX_VALUES": false,
              "ROW_SAMPLING_METHOD": "random",
              "SAMPLING_FACTOR": 0.1,
              "SAMPLING_METHOD": "random",
              "STRINGIFY_COLUMN_VALUES": true,
              "STRINGIFY_INDEX_VALUES": false
            },
            "sample_history": [],
            "sampling_time": "2023-05-30T05:59:56.472805",
            "user_variable_name": null,
            "variable_name": "unk_dataframe_d525a4674f284922b6270db3423c6a88"
          },
          "e2fcf295-4425-4111-b211-33529eea2223": {
            "dataframe_info": {
              "default_index_used": false,
              "orig_size_bytes": 1232,
              "orig_num_rows": 77,
              "orig_num_cols": 1,
              "truncated_string_columns": [],
              "truncated_size_bytes": 1232,
              "truncated_num_rows": 77,
              "truncated_num_cols": 1
            },
            "dx_settings": {
              "LOG_LEVEL": 30,
              "DEV_MODE": false,
              "DISPLAY_MAX_ROWS": 50000,
              "DISPLAY_MAX_COLUMNS": 100,
              "HTML_TABLE_SCHEMA": false,
              "MAX_RENDER_SIZE_BYTES": 104857600,
              "MAX_STRING_LENGTH": 250,
              "SAMPLING_FACTOR": 0.1,
              "DISPLAY_MODE": "simple",
              "SAMPLING_METHOD": "random",
              "COLUMN_SAMPLING_METHOD": "outer",
              "ROW_SAMPLING_METHOD": "random",
              "RANDOM_STATE": 12648430,
              "RESET_INDEX_VALUES": false,
              "FLATTEN_INDEX_VALUES": false,
              "FLATTEN_COLUMN_VALUES": true,
              "STRINGIFY_INDEX_VALUES": false,
              "STRINGIFY_COLUMN_VALUES": true,
              "ENABLE_DATALINK": true,
              "ENABLE_ASSIGNMENT": true,
              "NUM_PAST_SAMPLES_TRACKED": 3,
              "DB_LOCATION": ":memory:",
              "GENERATE_DEX_METADATA": false,
              "ALLOW_NOTEABLE_ATTRS": true
            },
            "display_id": "e2fcf295-4425-4111-b211-33529eea2223",
            "applied_filters": [],
            "sample_history": [],
            "sampling_time": "2023-05-30T06:02:59.704221",
            "variable_name": "unk_dataframe_caa10bcabe834d7da523625a7bfe82de",
            "user_variable_name": null
          },
          "b17090dc-639f-4d9e-aa8f-12ed54e839b7": {
            "dataframe_info": {
              "default_index_used": false,
              "orig_size_bytes": 1232,
              "orig_num_rows": 77,
              "orig_num_cols": 1,
              "truncated_string_columns": [],
              "truncated_size_bytes": 1232,
              "truncated_num_rows": 77,
              "truncated_num_cols": 1
            },
            "dx_settings": {
              "LOG_LEVEL": 30,
              "DEV_MODE": false,
              "DISPLAY_MAX_ROWS": 50000,
              "DISPLAY_MAX_COLUMNS": 100,
              "HTML_TABLE_SCHEMA": false,
              "MAX_RENDER_SIZE_BYTES": 104857600,
              "MAX_STRING_LENGTH": 250,
              "SAMPLING_FACTOR": 0.1,
              "DISPLAY_MODE": "simple",
              "SAMPLING_METHOD": "random",
              "COLUMN_SAMPLING_METHOD": "outer",
              "ROW_SAMPLING_METHOD": "random",
              "RANDOM_STATE": 12648430,
              "RESET_INDEX_VALUES": false,
              "FLATTEN_INDEX_VALUES": false,
              "FLATTEN_COLUMN_VALUES": true,
              "STRINGIFY_INDEX_VALUES": false,
              "STRINGIFY_COLUMN_VALUES": true,
              "ENABLE_DATALINK": true,
              "ENABLE_ASSIGNMENT": true,
              "NUM_PAST_SAMPLES_TRACKED": 3,
              "DB_LOCATION": ":memory:",
              "GENERATE_DEX_METADATA": false,
              "ALLOW_NOTEABLE_ATTRS": true
            },
            "display_id": "b17090dc-639f-4d9e-aa8f-12ed54e839b7",
            "applied_filters": [],
            "sample_history": [],
            "sampling_time": "2023-05-30T06:04:10.001007",
            "variable_name": "unk_dataframe_443256edac50457895c7b4a1d9a4926c",
            "user_variable_name": null
          }
        },
        "id": "3e029c10-b8e9-4973-967f-20b92659562d",
        "outputId": "33d220f0-42e0-4ad1-f2ce-a0b64042f169"
      },
      "id": "3e029c10-b8e9-4973-967f-20b92659562d"
    },
    {
      "cell_type": "code",
      "source": [
        "# Fill missing values with 0 for both training and test data\n",
        "train_data.fillna(0, inplace=True)\n",
        "test_data.fillna(0, inplace=True)"
      ],
      "outputs": [],
      "execution_count": null,
      "metadata": {
        "jupyter": {
          "outputs_hidden": false,
          "source_hidden": false
        },
        "noteable": {
          "cell_type": "code"
        },
        "ExecuteTime": {
          "start_time": "2023-05-30T06:04:10.226094+00:00",
          "end_time": "2023-05-30T06:04:10.942237+00:00"
        },
        "id": "1eee8e48-eff8-433f-88bb-e012ce6f93de"
      },
      "id": "1eee8e48-eff8-433f-88bb-e012ce6f93de"
    },
    {
      "cell_type": "code",
      "source": [
        "# Check the data types of the columns\n",
        "train_data.dtypes"
      ],
      "outputs": [
        {
          "output_type": "display_data",
          "data": {
            "application/vnd.dataresource+json": {
              "schema": {
                "fields": [
                  {
                    "name": "index",
                    "type": "string"
                  },
                  {
                    "name": "0",
                    "type": "string"
                  }
                ],
                "primaryKey": [
                  "index"
                ],
                "pandas_version": "1.4.0"
              },
              "data": [
                {
                  "0": "int64",
                  "index": "id"
                },
                {
                  "0": "object",
                  "index": "Tranc_YearMonth"
                },
                {
                  "0": "object",
                  "index": "town"
                },
                {
                  "0": "object",
                  "index": "flat_type"
                },
                {
                  "0": "object",
                  "index": "block"
                },
                {
                  "0": "object",
                  "index": "street_name"
                },
                {
                  "0": "object",
                  "index": "storey_range"
                },
                {
                  "0": "float64",
                  "index": "floor_area_sqm"
                },
                {
                  "0": "object",
                  "index": "flat_model"
                },
                {
                  "0": "int64",
                  "index": "lease_commence_date"
                },
                {
                  "0": "float64",
                  "index": "resale_price"
                },
                {
                  "0": "int64",
                  "index": "Tranc_Year"
                },
                {
                  "0": "int64",
                  "index": "Tranc_Month"
                },
                {
                  "0": "int64",
                  "index": "mid_storey"
                },
                {
                  "0": "int64",
                  "index": "lower"
                },
                {
                  "0": "int64",
                  "index": "upper"
                },
                {
                  "0": "int64",
                  "index": "mid"
                },
                {
                  "0": "object",
                  "index": "full_flat_type"
                },
                {
                  "0": "object",
                  "index": "address"
                },
                {
                  "0": "float64",
                  "index": "floor_area_sqft"
                },
                {
                  "0": "float64",
                  "index": "price_per_sqft"
                },
                {
                  "0": "int64",
                  "index": "hdb_age"
                },
                {
                  "0": "int64",
                  "index": "max_floor_lvl"
                },
                {
                  "0": "int64",
                  "index": "year_completed"
                },
                {
                  "0": "object",
                  "index": "residential"
                },
                {
                  "0": "object",
                  "index": "commercial"
                },
                {
                  "0": "object",
                  "index": "market_hawker"
                },
                {
                  "0": "object",
                  "index": "multistorey_carpark"
                },
                {
                  "0": "object",
                  "index": "precinct_pavilion"
                },
                {
                  "0": "int64",
                  "index": "total_dwelling_units"
                },
                {
                  "0": "int64",
                  "index": "1room_sold"
                },
                {
                  "0": "int64",
                  "index": "2room_sold"
                },
                {
                  "0": "int64",
                  "index": "3room_sold"
                },
                {
                  "0": "int64",
                  "index": "4room_sold"
                },
                {
                  "0": "int64",
                  "index": "5room_sold"
                },
                {
                  "0": "int64",
                  "index": "exec_sold"
                },
                {
                  "0": "int64",
                  "index": "multigen_sold"
                },
                {
                  "0": "int64",
                  "index": "studio_apartment_sold"
                },
                {
                  "0": "int64",
                  "index": "1room_rental"
                },
                {
                  "0": "int64",
                  "index": "2room_rental"
                },
                {
                  "0": "int64",
                  "index": "3room_rental"
                },
                {
                  "0": "int64",
                  "index": "other_room_rental"
                },
                {
                  "0": "object",
                  "index": "postal"
                },
                {
                  "0": "float64",
                  "index": "Latitude"
                },
                {
                  "0": "float64",
                  "index": "Longitude"
                },
                {
                  "0": "object",
                  "index": "planning_area"
                },
                {
                  "0": "float64",
                  "index": "Mall_Nearest_Distance"
                },
                {
                  "0": "float64",
                  "index": "Mall_Within_500m"
                },
                {
                  "0": "float64",
                  "index": "Mall_Within_1km"
                },
                {
                  "0": "float64",
                  "index": "Mall_Within_2km"
                },
                {
                  "0": "float64",
                  "index": "Hawker_Nearest_Distance"
                },
                {
                  "0": "float64",
                  "index": "Hawker_Within_500m"
                },
                {
                  "0": "float64",
                  "index": "Hawker_Within_1km"
                },
                {
                  "0": "float64",
                  "index": "Hawker_Within_2km"
                },
                {
                  "0": "int64",
                  "index": "hawker_food_stalls"
                },
                {
                  "0": "int64",
                  "index": "hawker_market_stalls"
                },
                {
                  "0": "float64",
                  "index": "mrt_nearest_distance"
                },
                {
                  "0": "object",
                  "index": "mrt_name"
                },
                {
                  "0": "int64",
                  "index": "bus_interchange"
                },
                {
                  "0": "int64",
                  "index": "mrt_interchange"
                },
                {
                  "0": "float64",
                  "index": "mrt_latitude"
                },
                {
                  "0": "float64",
                  "index": "mrt_longitude"
                },
                {
                  "0": "float64",
                  "index": "bus_stop_nearest_distance"
                },
                {
                  "0": "object",
                  "index": "bus_stop_name"
                },
                {
                  "0": "float64",
                  "index": "bus_stop_latitude"
                },
                {
                  "0": "float64",
                  "index": "bus_stop_longitude"
                },
                {
                  "0": "float64",
                  "index": "pri_sch_nearest_distance"
                },
                {
                  "0": "object",
                  "index": "pri_sch_name"
                },
                {
                  "0": "int64",
                  "index": "vacancy"
                },
                {
                  "0": "int64",
                  "index": "pri_sch_affiliation"
                },
                {
                  "0": "float64",
                  "index": "pri_sch_latitude"
                },
                {
                  "0": "float64",
                  "index": "pri_sch_longitude"
                },
                {
                  "0": "float64",
                  "index": "sec_sch_nearest_dist"
                },
                {
                  "0": "object",
                  "index": "sec_sch_name"
                },
                {
                  "0": "int64",
                  "index": "cutoff_point"
                },
                {
                  "0": "int64",
                  "index": "affiliation"
                },
                {
                  "0": "float64",
                  "index": "sec_sch_latitude"
                },
                {
                  "0": "float64",
                  "index": "sec_sch_longitude"
                }
              ],
              "datalink": {
                "display_id": "a4b4177d-c2a6-4fa0-8275-ad4ea543ea00"
              }
            }
          },
          "metadata": {
            "application/vnd.dataresource+json": {
              "datalink": {
                "dataframe_info": {
                  "default_index_used": false,
                  "orig_size_bytes": 3352,
                  "orig_num_rows": 78,
                  "orig_num_cols": 1,
                  "truncated_string_columns": [],
                  "truncated_size_bytes": 3352,
                  "truncated_num_rows": 78,
                  "truncated_num_cols": 1
                },
                "dx_settings": {
                  "NUM_PAST_SAMPLES_TRACKED": 3,
                  "ENABLE_DATALINK": true,
                  "DISPLAY_MODE": "simple",
                  "GENERATE_DEX_METADATA": false,
                  "STRINGIFY_INDEX_VALUES": false,
                  "ALLOW_NOTEABLE_ATTRS": true,
                  "DISPLAY_MAX_COLUMNS": 100,
                  "HTML_TABLE_SCHEMA": false,
                  "SAMPLING_FACTOR": 0.1,
                  "LOG_LEVEL": 30,
                  "ENABLE_ASSIGNMENT": true,
                  "FLATTEN_INDEX_VALUES": false,
                  "DEV_MODE": false,
                  "COLUMN_SAMPLING_METHOD": "outer",
                  "FLATTEN_COLUMN_VALUES": true,
                  "DISPLAY_MAX_ROWS": 50000,
                  "ROW_SAMPLING_METHOD": "random",
                  "RANDOM_STATE": 12648430,
                  "DB_LOCATION": ":memory:",
                  "STRINGIFY_COLUMN_VALUES": true,
                  "SAMPLING_METHOD": "random",
                  "MAX_STRING_LENGTH": 250,
                  "MAX_RENDER_SIZE_BYTES": 104857600,
                  "RESET_INDEX_VALUES": false
                },
                "display_id": "a4b4177d-c2a6-4fa0-8275-ad4ea543ea00",
                "applied_filters": [],
                "sample_history": [],
                "sampling_time": "2023-05-30T06:04:10.982709",
                "variable_name": "unk_dataframe_f12a0f02f8d441b9977e76872112d2d9",
                "user_variable_name": null
              },
              "display_id": "a4b4177d-c2a6-4fa0-8275-ad4ea543ea00"
            }
          }
        }
      ],
      "execution_count": null,
      "metadata": {
        "jupyter": {
          "outputs_hidden": false,
          "source_hidden": false
        },
        "noteable": {
          "cell_type": "code"
        },
        "ExecuteTime": {
          "start_time": "2023-05-30T06:04:10.950204+00:00",
          "end_time": "2023-05-30T06:04:11.138295+00:00"
        },
        "datalink": {
          "d4cfc071-a748-4721-baef-92c12333034b": {
            "applied_filters": [],
            "dataframe_info": {
              "default_index_used": false,
              "orig_num_cols": 1,
              "orig_num_rows": 78,
              "orig_size_bytes": 3352,
              "truncated_num_cols": 1,
              "truncated_num_rows": 78,
              "truncated_size_bytes": 3352,
              "truncated_string_columns": []
            },
            "display_id": "d4cfc071-a748-4721-baef-92c12333034b",
            "dx_settings": {
              "ALLOW_NOTEABLE_ATTRS": true,
              "COLUMN_SAMPLING_METHOD": "outer",
              "DB_LOCATION": ":memory:",
              "DEV_MODE": false,
              "DISPLAY_MAX_COLUMNS": 100,
              "DISPLAY_MAX_ROWS": 50000,
              "DISPLAY_MODE": "simple",
              "ENABLE_ASSIGNMENT": true,
              "ENABLE_DATALINK": true,
              "FLATTEN_COLUMN_VALUES": true,
              "FLATTEN_INDEX_VALUES": false,
              "GENERATE_DEX_METADATA": false,
              "HTML_TABLE_SCHEMA": false,
              "LOG_LEVEL": 30,
              "MAX_RENDER_SIZE_BYTES": 104857600,
              "MAX_STRING_LENGTH": 250,
              "NUM_PAST_SAMPLES_TRACKED": 3,
              "RANDOM_STATE": 12648430,
              "RESET_INDEX_VALUES": false,
              "ROW_SAMPLING_METHOD": "random",
              "SAMPLING_FACTOR": 0.1,
              "SAMPLING_METHOD": "random",
              "STRINGIFY_COLUMN_VALUES": true,
              "STRINGIFY_INDEX_VALUES": false
            },
            "sample_history": [],
            "sampling_time": "2023-05-30T06:00:48.174386",
            "user_variable_name": null,
            "variable_name": "unk_dataframe_3019ebe0a4b34c5b91aca0ed66ff778e"
          },
          "646abf93-f90c-4f3a-8a7f-9e860459d7a2": {
            "dataframe_info": {
              "default_index_used": false,
              "orig_size_bytes": 3352,
              "orig_num_rows": 78,
              "orig_num_cols": 1,
              "truncated_string_columns": [],
              "truncated_size_bytes": 3352,
              "truncated_num_rows": 78,
              "truncated_num_cols": 1
            },
            "dx_settings": {
              "LOG_LEVEL": 30,
              "DEV_MODE": false,
              "DISPLAY_MAX_ROWS": 50000,
              "DISPLAY_MAX_COLUMNS": 100,
              "HTML_TABLE_SCHEMA": false,
              "MAX_RENDER_SIZE_BYTES": 104857600,
              "MAX_STRING_LENGTH": 250,
              "SAMPLING_FACTOR": 0.1,
              "DISPLAY_MODE": "simple",
              "SAMPLING_METHOD": "random",
              "COLUMN_SAMPLING_METHOD": "outer",
              "ROW_SAMPLING_METHOD": "random",
              "RANDOM_STATE": 12648430,
              "RESET_INDEX_VALUES": false,
              "FLATTEN_INDEX_VALUES": false,
              "FLATTEN_COLUMN_VALUES": true,
              "STRINGIFY_INDEX_VALUES": false,
              "STRINGIFY_COLUMN_VALUES": true,
              "ENABLE_DATALINK": true,
              "ENABLE_ASSIGNMENT": true,
              "NUM_PAST_SAMPLES_TRACKED": 3,
              "DB_LOCATION": ":memory:",
              "GENERATE_DEX_METADATA": false,
              "ALLOW_NOTEABLE_ATTRS": true
            },
            "display_id": "646abf93-f90c-4f3a-8a7f-9e860459d7a2",
            "applied_filters": [],
            "sample_history": [],
            "sampling_time": "2023-05-30T06:03:00.682362",
            "variable_name": "unk_dataframe_9963d8a17ee54790a2233edef07c69b4",
            "user_variable_name": null
          },
          "a4b4177d-c2a6-4fa0-8275-ad4ea543ea00": {
            "dataframe_info": {
              "default_index_used": false,
              "orig_size_bytes": 3352,
              "orig_num_rows": 78,
              "orig_num_cols": 1,
              "truncated_string_columns": [],
              "truncated_size_bytes": 3352,
              "truncated_num_rows": 78,
              "truncated_num_cols": 1
            },
            "dx_settings": {
              "LOG_LEVEL": 30,
              "DEV_MODE": false,
              "DISPLAY_MAX_ROWS": 50000,
              "DISPLAY_MAX_COLUMNS": 100,
              "HTML_TABLE_SCHEMA": false,
              "MAX_RENDER_SIZE_BYTES": 104857600,
              "MAX_STRING_LENGTH": 250,
              "SAMPLING_FACTOR": 0.1,
              "DISPLAY_MODE": "simple",
              "SAMPLING_METHOD": "random",
              "COLUMN_SAMPLING_METHOD": "outer",
              "ROW_SAMPLING_METHOD": "random",
              "RANDOM_STATE": 12648430,
              "RESET_INDEX_VALUES": false,
              "FLATTEN_INDEX_VALUES": false,
              "FLATTEN_COLUMN_VALUES": true,
              "STRINGIFY_INDEX_VALUES": false,
              "STRINGIFY_COLUMN_VALUES": true,
              "ENABLE_DATALINK": true,
              "ENABLE_ASSIGNMENT": true,
              "NUM_PAST_SAMPLES_TRACKED": 3,
              "DB_LOCATION": ":memory:",
              "GENERATE_DEX_METADATA": false,
              "ALLOW_NOTEABLE_ATTRS": true
            },
            "display_id": "a4b4177d-c2a6-4fa0-8275-ad4ea543ea00",
            "applied_filters": [],
            "sample_history": [],
            "sampling_time": "2023-05-30T06:04:10.982709",
            "variable_name": "unk_dataframe_f12a0f02f8d441b9977e76872112d2d9",
            "user_variable_name": null
          }
        },
        "id": "8398bd30-d461-4fe5-aa6a-02b1bba487e2",
        "outputId": "19ca2137-82b0-4e9d-ade2-85774929d978"
      },
      "id": "8398bd30-d461-4fe5-aa6a-02b1bba487e2"
    },
    {
      "cell_type": "code",
      "source": [
        "# Convert categorical variables into dummy/indicator variables\n",
        "train_data = pd.get_dummies(train_data)\n",
        "test_data = pd.get_dummies(test_data)"
      ],
      "outputs": [
        {
          "output_type": "display_data",
          "data": {
            "text/html": "<div class='bp3-callout bp3-intent-warning'><h6 class='bp3-heading'>Warning</h6><p>The connection to your kernel was interrupted. This could have happened because:</p>\n        <ul>\n            <li>Your kernel ran out of memory.</li>\n            <li>You attempted to output more than 100MB of data.</li>\n            <li>Your kernel experienced an unexpected shutdown.</li>\n        </ul>\n        </div>"
          },
          "metadata": {}
        }
      ],
      "execution_count": null,
      "metadata": {
        "jupyter": {
          "outputs_hidden": false,
          "source_hidden": false
        },
        "noteable": {
          "cell_type": "code"
        },
        "ExecuteTime": null,
        "id": "73ad31f9-bb81-458b-8f0f-c5d9fcf71013",
        "outputId": "92f219ca-9a91-410d-d659-5e811ef9a0fd"
      },
      "id": "73ad31f9-bb81-458b-8f0f-c5d9fcf71013"
    }
  ],
  "metadata": {
    "noteable-chatgpt": {
      "create_notebook": {
        "openai_conversation_id": "6a763368-f5b9-5c05-8a0a-c56944619847",
        "openai_ephemeral_user_id": "a43e905f-4871-5e85-88b7-654003e3feec"
      }
    },
    "noteable": {
      "last_transaction_id": "e484c297-59fd-424a-b21e-8f0632683edd",
      "last_delta_id": "433f4739-7bc9-4c7a-9985-05cd1043028c"
    },
    "selected_hardware_size": "small",
    "nteract": {
      "version": "noteable@2.9.0"
    },
    "colab": {
      "provenance": [],
      "include_colab_link": true
    }
  },
  "nbformat": 4,
  "nbformat_minor": 5
}